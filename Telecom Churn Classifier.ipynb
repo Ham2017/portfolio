{
 "cells": [
  {
   "cell_type": "markdown",
   "metadata": {},
   "source": [
    "## Telecom Churn Classifier\n",
    "Churn rate is the loss of clients or customers. customer churn is particularly important in the telecommunications industry where revenues are heavily dependent on subscriptions. \n",
    "\n",
    "Here, churned customers were predicted using the datasets containing customer informations. The SMOTE (Synthetic Minority Oversampling Technique) technique was adopted to deal with unbalanced dataset before applying different classifiers. Both SelectKBest and principal component analysis (PCA) methods are used for reducing the number of features in dataset. By feature selection, the irrelevant features are selected and simply excluded without changing them. The remained features contribute most to the target variable. In other words, it uses statistical tests to select features with the highest correlation to the target. By PCA, the number of features (dimensions) is reduced by transforming to lower dimention but retaining most of information without taking the target into consideration. \n",
    "\n",
    "The link for the dataset is here: \n",
    "https://www.kaggle.com/zagarsuren/telecom-churn-dataset-ibm-watson-analytics\n",
    "data contains 7043 observations and 21 columns. There are no missing values."
   ]
  },
  {
   "cell_type": "code",
   "execution_count": 333,
   "metadata": {},
   "outputs": [],
   "source": [
    "import pandas as pd\n",
    "import numpy as np\n",
    "import matplotlib.pyplot as plt\n",
    "%matplotlib inline\n",
    "import seaborn as sns\n",
    "from sklearn.model_selection import train_test_split\n",
    "from sklearn.feature_selection import SelectKBest, chi2\n",
    "from sklearn.tree import DecisionTreeClassifier\n",
    "from sklearn.model_selection import GridSearchCV\n",
    "from sklearn.ensemble import RandomForestClassifier, GradientBoostingClassifier\n",
    "from sklearn.model_selection import cross_val_score\n",
    "from sklearn.metrics import confusion_matrix,classification_report,average_precision_score\n",
    "from sklearn.linear_model import LogisticRegression\n",
    "from sklearn.svm import SVC\n",
    "from sklearn.model_selection import RandomizedSearchCV\n",
    "from sklearn.neighbors import KNeighborsClassifier\n",
    "from sklearn.preprocessing import StandardScaler\n",
    "from sklearn.decomposition import PCA\n",
    "from imblearn.over_sampling import SMOTE"
   ]
  },
  {
   "cell_type": "code",
   "execution_count": 334,
   "metadata": {},
   "outputs": [],
   "source": [
    "#import data\n",
    "data = pd.read_excel('C:/Users/hamed/Desktop/ThinkfulDS/Assignments/Ph2Module16_Capstone2/datasets_42343_72434_WA_Fn-UseC_-Telco-Customer-Churn.xlsx')"
   ]
  },
  {
   "cell_type": "code",
   "execution_count": 335,
   "metadata": {},
   "outputs": [
    {
     "data": {
      "text/html": [
       "<div>\n",
       "<style scoped>\n",
       "    .dataframe tbody tr th:only-of-type {\n",
       "        vertical-align: middle;\n",
       "    }\n",
       "\n",
       "    .dataframe tbody tr th {\n",
       "        vertical-align: top;\n",
       "    }\n",
       "\n",
       "    .dataframe thead th {\n",
       "        text-align: right;\n",
       "    }\n",
       "</style>\n",
       "<table border=\"1\" class=\"dataframe\">\n",
       "  <thead>\n",
       "    <tr style=\"text-align: right;\">\n",
       "      <th></th>\n",
       "      <th>customerID</th>\n",
       "      <th>gender</th>\n",
       "      <th>SeniorCitizen</th>\n",
       "      <th>Partner</th>\n",
       "      <th>Dependents</th>\n",
       "      <th>tenure</th>\n",
       "      <th>PhoneService</th>\n",
       "      <th>MultipleLines</th>\n",
       "      <th>InternetService</th>\n",
       "      <th>OnlineSecurity</th>\n",
       "      <th>...</th>\n",
       "      <th>DeviceProtection</th>\n",
       "      <th>TechSupport</th>\n",
       "      <th>StreamingTV</th>\n",
       "      <th>StreamingMovies</th>\n",
       "      <th>Contract</th>\n",
       "      <th>PaperlessBilling</th>\n",
       "      <th>PaymentMethod</th>\n",
       "      <th>MonthlyCharges</th>\n",
       "      <th>TotalCharges</th>\n",
       "      <th>Churn</th>\n",
       "    </tr>\n",
       "  </thead>\n",
       "  <tbody>\n",
       "    <tr>\n",
       "      <td>0</td>\n",
       "      <td>7590-VHVEG</td>\n",
       "      <td>Female</td>\n",
       "      <td>0</td>\n",
       "      <td>Yes</td>\n",
       "      <td>No</td>\n",
       "      <td>1</td>\n",
       "      <td>No</td>\n",
       "      <td>No phone service</td>\n",
       "      <td>DSL</td>\n",
       "      <td>No</td>\n",
       "      <td>...</td>\n",
       "      <td>No</td>\n",
       "      <td>No</td>\n",
       "      <td>No</td>\n",
       "      <td>No</td>\n",
       "      <td>Month-to-month</td>\n",
       "      <td>Yes</td>\n",
       "      <td>Electronic check</td>\n",
       "      <td>29.85</td>\n",
       "      <td>29.85</td>\n",
       "      <td>No</td>\n",
       "    </tr>\n",
       "    <tr>\n",
       "      <td>1</td>\n",
       "      <td>5575-GNVDE</td>\n",
       "      <td>Male</td>\n",
       "      <td>0</td>\n",
       "      <td>No</td>\n",
       "      <td>No</td>\n",
       "      <td>34</td>\n",
       "      <td>Yes</td>\n",
       "      <td>No</td>\n",
       "      <td>DSL</td>\n",
       "      <td>Yes</td>\n",
       "      <td>...</td>\n",
       "      <td>Yes</td>\n",
       "      <td>No</td>\n",
       "      <td>No</td>\n",
       "      <td>No</td>\n",
       "      <td>One year</td>\n",
       "      <td>No</td>\n",
       "      <td>Mailed check</td>\n",
       "      <td>56.95</td>\n",
       "      <td>1889.5</td>\n",
       "      <td>No</td>\n",
       "    </tr>\n",
       "    <tr>\n",
       "      <td>2</td>\n",
       "      <td>3668-QPYBK</td>\n",
       "      <td>Male</td>\n",
       "      <td>0</td>\n",
       "      <td>No</td>\n",
       "      <td>No</td>\n",
       "      <td>2</td>\n",
       "      <td>Yes</td>\n",
       "      <td>No</td>\n",
       "      <td>DSL</td>\n",
       "      <td>Yes</td>\n",
       "      <td>...</td>\n",
       "      <td>No</td>\n",
       "      <td>No</td>\n",
       "      <td>No</td>\n",
       "      <td>No</td>\n",
       "      <td>Month-to-month</td>\n",
       "      <td>Yes</td>\n",
       "      <td>Mailed check</td>\n",
       "      <td>53.85</td>\n",
       "      <td>108.15</td>\n",
       "      <td>Yes</td>\n",
       "    </tr>\n",
       "    <tr>\n",
       "      <td>3</td>\n",
       "      <td>7795-CFOCW</td>\n",
       "      <td>Male</td>\n",
       "      <td>0</td>\n",
       "      <td>No</td>\n",
       "      <td>No</td>\n",
       "      <td>45</td>\n",
       "      <td>No</td>\n",
       "      <td>No phone service</td>\n",
       "      <td>DSL</td>\n",
       "      <td>Yes</td>\n",
       "      <td>...</td>\n",
       "      <td>Yes</td>\n",
       "      <td>Yes</td>\n",
       "      <td>No</td>\n",
       "      <td>No</td>\n",
       "      <td>One year</td>\n",
       "      <td>No</td>\n",
       "      <td>Bank transfer (automatic)</td>\n",
       "      <td>42.30</td>\n",
       "      <td>1840.75</td>\n",
       "      <td>No</td>\n",
       "    </tr>\n",
       "    <tr>\n",
       "      <td>4</td>\n",
       "      <td>9237-HQITU</td>\n",
       "      <td>Female</td>\n",
       "      <td>0</td>\n",
       "      <td>No</td>\n",
       "      <td>No</td>\n",
       "      <td>2</td>\n",
       "      <td>Yes</td>\n",
       "      <td>No</td>\n",
       "      <td>Fiber optic</td>\n",
       "      <td>No</td>\n",
       "      <td>...</td>\n",
       "      <td>No</td>\n",
       "      <td>No</td>\n",
       "      <td>No</td>\n",
       "      <td>No</td>\n",
       "      <td>Month-to-month</td>\n",
       "      <td>Yes</td>\n",
       "      <td>Electronic check</td>\n",
       "      <td>70.70</td>\n",
       "      <td>151.65</td>\n",
       "      <td>Yes</td>\n",
       "    </tr>\n",
       "  </tbody>\n",
       "</table>\n",
       "<p>5 rows × 21 columns</p>\n",
       "</div>"
      ],
      "text/plain": [
       "   customerID  gender  SeniorCitizen Partner Dependents  tenure PhoneService  \\\n",
       "0  7590-VHVEG  Female              0     Yes         No       1           No   \n",
       "1  5575-GNVDE    Male              0      No         No      34          Yes   \n",
       "2  3668-QPYBK    Male              0      No         No       2          Yes   \n",
       "3  7795-CFOCW    Male              0      No         No      45           No   \n",
       "4  9237-HQITU  Female              0      No         No       2          Yes   \n",
       "\n",
       "      MultipleLines InternetService OnlineSecurity  ... DeviceProtection  \\\n",
       "0  No phone service             DSL             No  ...               No   \n",
       "1                No             DSL            Yes  ...              Yes   \n",
       "2                No             DSL            Yes  ...               No   \n",
       "3  No phone service             DSL            Yes  ...              Yes   \n",
       "4                No     Fiber optic             No  ...               No   \n",
       "\n",
       "  TechSupport StreamingTV StreamingMovies        Contract PaperlessBilling  \\\n",
       "0          No          No              No  Month-to-month              Yes   \n",
       "1          No          No              No        One year               No   \n",
       "2          No          No              No  Month-to-month              Yes   \n",
       "3         Yes          No              No        One year               No   \n",
       "4          No          No              No  Month-to-month              Yes   \n",
       "\n",
       "               PaymentMethod MonthlyCharges  TotalCharges Churn  \n",
       "0           Electronic check          29.85         29.85    No  \n",
       "1               Mailed check          56.95        1889.5    No  \n",
       "2               Mailed check          53.85        108.15   Yes  \n",
       "3  Bank transfer (automatic)          42.30       1840.75    No  \n",
       "4           Electronic check          70.70        151.65   Yes  \n",
       "\n",
       "[5 rows x 21 columns]"
      ]
     },
     "execution_count": 335,
     "metadata": {},
     "output_type": "execute_result"
    }
   ],
   "source": [
    "data.head(5)"
   ]
  },
  {
   "cell_type": "code",
   "execution_count": 336,
   "metadata": {},
   "outputs": [
    {
     "data": {
      "text/html": [
       "<div>\n",
       "<style scoped>\n",
       "    .dataframe tbody tr th:only-of-type {\n",
       "        vertical-align: middle;\n",
       "    }\n",
       "\n",
       "    .dataframe tbody tr th {\n",
       "        vertical-align: top;\n",
       "    }\n",
       "\n",
       "    .dataframe thead th {\n",
       "        text-align: right;\n",
       "    }\n",
       "</style>\n",
       "<table border=\"1\" class=\"dataframe\">\n",
       "  <thead>\n",
       "    <tr style=\"text-align: right;\">\n",
       "      <th></th>\n",
       "      <th>customerID</th>\n",
       "      <th>gender</th>\n",
       "      <th>SeniorCitizen</th>\n",
       "      <th>Partner</th>\n",
       "      <th>Dependents</th>\n",
       "      <th>tenure</th>\n",
       "      <th>PhoneService</th>\n",
       "      <th>MultipleLines</th>\n",
       "      <th>InternetService</th>\n",
       "      <th>OnlineSecurity</th>\n",
       "      <th>...</th>\n",
       "      <th>DeviceProtection</th>\n",
       "      <th>TechSupport</th>\n",
       "      <th>StreamingTV</th>\n",
       "      <th>StreamingMovies</th>\n",
       "      <th>Contract</th>\n",
       "      <th>PaperlessBilling</th>\n",
       "      <th>PaymentMethod</th>\n",
       "      <th>MonthlyCharges</th>\n",
       "      <th>TotalCharges</th>\n",
       "      <th>Churn</th>\n",
       "    </tr>\n",
       "  </thead>\n",
       "  <tbody>\n",
       "    <tr>\n",
       "      <td>count</td>\n",
       "      <td>7043</td>\n",
       "      <td>7043</td>\n",
       "      <td>7043.000000</td>\n",
       "      <td>7043</td>\n",
       "      <td>7043</td>\n",
       "      <td>7043.000000</td>\n",
       "      <td>7043</td>\n",
       "      <td>7043</td>\n",
       "      <td>7043</td>\n",
       "      <td>7043</td>\n",
       "      <td>...</td>\n",
       "      <td>7043</td>\n",
       "      <td>7043</td>\n",
       "      <td>7043</td>\n",
       "      <td>7043</td>\n",
       "      <td>7043</td>\n",
       "      <td>7043</td>\n",
       "      <td>7043</td>\n",
       "      <td>7043.000000</td>\n",
       "      <td>7043.0</td>\n",
       "      <td>7043</td>\n",
       "    </tr>\n",
       "    <tr>\n",
       "      <td>unique</td>\n",
       "      <td>7043</td>\n",
       "      <td>2</td>\n",
       "      <td>NaN</td>\n",
       "      <td>2</td>\n",
       "      <td>2</td>\n",
       "      <td>NaN</td>\n",
       "      <td>2</td>\n",
       "      <td>3</td>\n",
       "      <td>3</td>\n",
       "      <td>3</td>\n",
       "      <td>...</td>\n",
       "      <td>3</td>\n",
       "      <td>3</td>\n",
       "      <td>3</td>\n",
       "      <td>3</td>\n",
       "      <td>3</td>\n",
       "      <td>2</td>\n",
       "      <td>4</td>\n",
       "      <td>NaN</td>\n",
       "      <td>6531.0</td>\n",
       "      <td>2</td>\n",
       "    </tr>\n",
       "    <tr>\n",
       "      <td>top</td>\n",
       "      <td>5804-JMYIO</td>\n",
       "      <td>Male</td>\n",
       "      <td>NaN</td>\n",
       "      <td>No</td>\n",
       "      <td>No</td>\n",
       "      <td>NaN</td>\n",
       "      <td>Yes</td>\n",
       "      <td>No</td>\n",
       "      <td>Fiber optic</td>\n",
       "      <td>No</td>\n",
       "      <td>...</td>\n",
       "      <td>No</td>\n",
       "      <td>No</td>\n",
       "      <td>No</td>\n",
       "      <td>No</td>\n",
       "      <td>Month-to-month</td>\n",
       "      <td>Yes</td>\n",
       "      <td>Electronic check</td>\n",
       "      <td>NaN</td>\n",
       "      <td>20.2</td>\n",
       "      <td>No</td>\n",
       "    </tr>\n",
       "    <tr>\n",
       "      <td>freq</td>\n",
       "      <td>1</td>\n",
       "      <td>3555</td>\n",
       "      <td>NaN</td>\n",
       "      <td>3641</td>\n",
       "      <td>4933</td>\n",
       "      <td>NaN</td>\n",
       "      <td>6361</td>\n",
       "      <td>3390</td>\n",
       "      <td>3096</td>\n",
       "      <td>3498</td>\n",
       "      <td>...</td>\n",
       "      <td>3095</td>\n",
       "      <td>3473</td>\n",
       "      <td>2810</td>\n",
       "      <td>2785</td>\n",
       "      <td>3875</td>\n",
       "      <td>4171</td>\n",
       "      <td>2365</td>\n",
       "      <td>NaN</td>\n",
       "      <td>11.0</td>\n",
       "      <td>5174</td>\n",
       "    </tr>\n",
       "    <tr>\n",
       "      <td>mean</td>\n",
       "      <td>NaN</td>\n",
       "      <td>NaN</td>\n",
       "      <td>0.162147</td>\n",
       "      <td>NaN</td>\n",
       "      <td>NaN</td>\n",
       "      <td>32.371149</td>\n",
       "      <td>NaN</td>\n",
       "      <td>NaN</td>\n",
       "      <td>NaN</td>\n",
       "      <td>NaN</td>\n",
       "      <td>...</td>\n",
       "      <td>NaN</td>\n",
       "      <td>NaN</td>\n",
       "      <td>NaN</td>\n",
       "      <td>NaN</td>\n",
       "      <td>NaN</td>\n",
       "      <td>NaN</td>\n",
       "      <td>NaN</td>\n",
       "      <td>64.761692</td>\n",
       "      <td>NaN</td>\n",
       "      <td>NaN</td>\n",
       "    </tr>\n",
       "    <tr>\n",
       "      <td>std</td>\n",
       "      <td>NaN</td>\n",
       "      <td>NaN</td>\n",
       "      <td>0.368612</td>\n",
       "      <td>NaN</td>\n",
       "      <td>NaN</td>\n",
       "      <td>24.559481</td>\n",
       "      <td>NaN</td>\n",
       "      <td>NaN</td>\n",
       "      <td>NaN</td>\n",
       "      <td>NaN</td>\n",
       "      <td>...</td>\n",
       "      <td>NaN</td>\n",
       "      <td>NaN</td>\n",
       "      <td>NaN</td>\n",
       "      <td>NaN</td>\n",
       "      <td>NaN</td>\n",
       "      <td>NaN</td>\n",
       "      <td>NaN</td>\n",
       "      <td>30.090047</td>\n",
       "      <td>NaN</td>\n",
       "      <td>NaN</td>\n",
       "    </tr>\n",
       "    <tr>\n",
       "      <td>min</td>\n",
       "      <td>NaN</td>\n",
       "      <td>NaN</td>\n",
       "      <td>0.000000</td>\n",
       "      <td>NaN</td>\n",
       "      <td>NaN</td>\n",
       "      <td>0.000000</td>\n",
       "      <td>NaN</td>\n",
       "      <td>NaN</td>\n",
       "      <td>NaN</td>\n",
       "      <td>NaN</td>\n",
       "      <td>...</td>\n",
       "      <td>NaN</td>\n",
       "      <td>NaN</td>\n",
       "      <td>NaN</td>\n",
       "      <td>NaN</td>\n",
       "      <td>NaN</td>\n",
       "      <td>NaN</td>\n",
       "      <td>NaN</td>\n",
       "      <td>18.250000</td>\n",
       "      <td>NaN</td>\n",
       "      <td>NaN</td>\n",
       "    </tr>\n",
       "    <tr>\n",
       "      <td>25%</td>\n",
       "      <td>NaN</td>\n",
       "      <td>NaN</td>\n",
       "      <td>0.000000</td>\n",
       "      <td>NaN</td>\n",
       "      <td>NaN</td>\n",
       "      <td>9.000000</td>\n",
       "      <td>NaN</td>\n",
       "      <td>NaN</td>\n",
       "      <td>NaN</td>\n",
       "      <td>NaN</td>\n",
       "      <td>...</td>\n",
       "      <td>NaN</td>\n",
       "      <td>NaN</td>\n",
       "      <td>NaN</td>\n",
       "      <td>NaN</td>\n",
       "      <td>NaN</td>\n",
       "      <td>NaN</td>\n",
       "      <td>NaN</td>\n",
       "      <td>35.500000</td>\n",
       "      <td>NaN</td>\n",
       "      <td>NaN</td>\n",
       "    </tr>\n",
       "    <tr>\n",
       "      <td>50%</td>\n",
       "      <td>NaN</td>\n",
       "      <td>NaN</td>\n",
       "      <td>0.000000</td>\n",
       "      <td>NaN</td>\n",
       "      <td>NaN</td>\n",
       "      <td>29.000000</td>\n",
       "      <td>NaN</td>\n",
       "      <td>NaN</td>\n",
       "      <td>NaN</td>\n",
       "      <td>NaN</td>\n",
       "      <td>...</td>\n",
       "      <td>NaN</td>\n",
       "      <td>NaN</td>\n",
       "      <td>NaN</td>\n",
       "      <td>NaN</td>\n",
       "      <td>NaN</td>\n",
       "      <td>NaN</td>\n",
       "      <td>NaN</td>\n",
       "      <td>70.350000</td>\n",
       "      <td>NaN</td>\n",
       "      <td>NaN</td>\n",
       "    </tr>\n",
       "    <tr>\n",
       "      <td>75%</td>\n",
       "      <td>NaN</td>\n",
       "      <td>NaN</td>\n",
       "      <td>0.000000</td>\n",
       "      <td>NaN</td>\n",
       "      <td>NaN</td>\n",
       "      <td>55.000000</td>\n",
       "      <td>NaN</td>\n",
       "      <td>NaN</td>\n",
       "      <td>NaN</td>\n",
       "      <td>NaN</td>\n",
       "      <td>...</td>\n",
       "      <td>NaN</td>\n",
       "      <td>NaN</td>\n",
       "      <td>NaN</td>\n",
       "      <td>NaN</td>\n",
       "      <td>NaN</td>\n",
       "      <td>NaN</td>\n",
       "      <td>NaN</td>\n",
       "      <td>89.850000</td>\n",
       "      <td>NaN</td>\n",
       "      <td>NaN</td>\n",
       "    </tr>\n",
       "    <tr>\n",
       "      <td>max</td>\n",
       "      <td>NaN</td>\n",
       "      <td>NaN</td>\n",
       "      <td>1.000000</td>\n",
       "      <td>NaN</td>\n",
       "      <td>NaN</td>\n",
       "      <td>72.000000</td>\n",
       "      <td>NaN</td>\n",
       "      <td>NaN</td>\n",
       "      <td>NaN</td>\n",
       "      <td>NaN</td>\n",
       "      <td>...</td>\n",
       "      <td>NaN</td>\n",
       "      <td>NaN</td>\n",
       "      <td>NaN</td>\n",
       "      <td>NaN</td>\n",
       "      <td>NaN</td>\n",
       "      <td>NaN</td>\n",
       "      <td>NaN</td>\n",
       "      <td>118.750000</td>\n",
       "      <td>NaN</td>\n",
       "      <td>NaN</td>\n",
       "    </tr>\n",
       "  </tbody>\n",
       "</table>\n",
       "<p>11 rows × 21 columns</p>\n",
       "</div>"
      ],
      "text/plain": [
       "        customerID gender  SeniorCitizen Partner Dependents       tenure  \\\n",
       "count         7043   7043    7043.000000    7043       7043  7043.000000   \n",
       "unique        7043      2            NaN       2          2          NaN   \n",
       "top     5804-JMYIO   Male            NaN      No         No          NaN   \n",
       "freq             1   3555            NaN    3641       4933          NaN   \n",
       "mean           NaN    NaN       0.162147     NaN        NaN    32.371149   \n",
       "std            NaN    NaN       0.368612     NaN        NaN    24.559481   \n",
       "min            NaN    NaN       0.000000     NaN        NaN     0.000000   \n",
       "25%            NaN    NaN       0.000000     NaN        NaN     9.000000   \n",
       "50%            NaN    NaN       0.000000     NaN        NaN    29.000000   \n",
       "75%            NaN    NaN       0.000000     NaN        NaN    55.000000   \n",
       "max            NaN    NaN       1.000000     NaN        NaN    72.000000   \n",
       "\n",
       "       PhoneService MultipleLines InternetService OnlineSecurity  ...  \\\n",
       "count          7043          7043            7043           7043  ...   \n",
       "unique            2             3               3              3  ...   \n",
       "top             Yes            No     Fiber optic             No  ...   \n",
       "freq           6361          3390            3096           3498  ...   \n",
       "mean            NaN           NaN             NaN            NaN  ...   \n",
       "std             NaN           NaN             NaN            NaN  ...   \n",
       "min             NaN           NaN             NaN            NaN  ...   \n",
       "25%             NaN           NaN             NaN            NaN  ...   \n",
       "50%             NaN           NaN             NaN            NaN  ...   \n",
       "75%             NaN           NaN             NaN            NaN  ...   \n",
       "max             NaN           NaN             NaN            NaN  ...   \n",
       "\n",
       "       DeviceProtection TechSupport StreamingTV StreamingMovies  \\\n",
       "count              7043        7043        7043            7043   \n",
       "unique                3           3           3               3   \n",
       "top                  No          No          No              No   \n",
       "freq               3095        3473        2810            2785   \n",
       "mean                NaN         NaN         NaN             NaN   \n",
       "std                 NaN         NaN         NaN             NaN   \n",
       "min                 NaN         NaN         NaN             NaN   \n",
       "25%                 NaN         NaN         NaN             NaN   \n",
       "50%                 NaN         NaN         NaN             NaN   \n",
       "75%                 NaN         NaN         NaN             NaN   \n",
       "max                 NaN         NaN         NaN             NaN   \n",
       "\n",
       "              Contract PaperlessBilling     PaymentMethod MonthlyCharges  \\\n",
       "count             7043             7043              7043    7043.000000   \n",
       "unique               3                2                 4            NaN   \n",
       "top     Month-to-month              Yes  Electronic check            NaN   \n",
       "freq              3875             4171              2365            NaN   \n",
       "mean               NaN              NaN               NaN      64.761692   \n",
       "std                NaN              NaN               NaN      30.090047   \n",
       "min                NaN              NaN               NaN      18.250000   \n",
       "25%                NaN              NaN               NaN      35.500000   \n",
       "50%                NaN              NaN               NaN      70.350000   \n",
       "75%                NaN              NaN               NaN      89.850000   \n",
       "max                NaN              NaN               NaN     118.750000   \n",
       "\n",
       "        TotalCharges  Churn  \n",
       "count         7043.0   7043  \n",
       "unique        6531.0      2  \n",
       "top             20.2     No  \n",
       "freq            11.0   5174  \n",
       "mean             NaN    NaN  \n",
       "std              NaN    NaN  \n",
       "min              NaN    NaN  \n",
       "25%              NaN    NaN  \n",
       "50%              NaN    NaN  \n",
       "75%              NaN    NaN  \n",
       "max              NaN    NaN  \n",
       "\n",
       "[11 rows x 21 columns]"
      ]
     },
     "execution_count": 336,
     "metadata": {},
     "output_type": "execute_result"
    }
   ],
   "source": [
    "data.describe(include='all')"
   ]
  },
  {
   "cell_type": "code",
   "execution_count": 337,
   "metadata": {},
   "outputs": [
    {
     "name": "stdout",
     "output_type": "stream",
     "text": [
      "<class 'pandas.core.frame.DataFrame'>\n",
      "RangeIndex: 7043 entries, 0 to 7042\n",
      "Data columns (total 21 columns):\n",
      "customerID          7043 non-null object\n",
      "gender              7043 non-null object\n",
      "SeniorCitizen       7043 non-null int64\n",
      "Partner             7043 non-null object\n",
      "Dependents          7043 non-null object\n",
      "tenure              7043 non-null int64\n",
      "PhoneService        7043 non-null object\n",
      "MultipleLines       7043 non-null object\n",
      "InternetService     7043 non-null object\n",
      "OnlineSecurity      7043 non-null object\n",
      "OnlineBackup        7043 non-null object\n",
      "DeviceProtection    7043 non-null object\n",
      "TechSupport         7043 non-null object\n",
      "StreamingTV         7043 non-null object\n",
      "StreamingMovies     7043 non-null object\n",
      "Contract            7043 non-null object\n",
      "PaperlessBilling    7043 non-null object\n",
      "PaymentMethod       7043 non-null object\n",
      "MonthlyCharges      7043 non-null float64\n",
      "TotalCharges        7043 non-null object\n",
      "Churn               7043 non-null object\n",
      "dtypes: float64(1), int64(2), object(18)\n",
      "memory usage: 1.1+ MB\n"
     ]
    }
   ],
   "source": [
    "data.info()"
   ]
  },
  {
   "cell_type": "code",
   "execution_count": 338,
   "metadata": {},
   "outputs": [],
   "source": [
    "# column names are converted to lower case for ease of use.\n",
    "data.columns = data.columns.str.lower()"
   ]
  },
  {
   "cell_type": "code",
   "execution_count": 339,
   "metadata": {},
   "outputs": [
    {
     "data": {
      "text/plain": [
       "customerid          7043\n",
       "gender                 2\n",
       "seniorcitizen          2\n",
       "partner                2\n",
       "dependents             2\n",
       "tenure                73\n",
       "phoneservice           2\n",
       "multiplelines          3\n",
       "internetservice        3\n",
       "onlinesecurity         3\n",
       "onlinebackup           3\n",
       "deviceprotection       3\n",
       "techsupport            3\n",
       "streamingtv            3\n",
       "streamingmovies        3\n",
       "contract               3\n",
       "paperlessbilling       2\n",
       "paymentmethod          4\n",
       "monthlycharges      1585\n",
       "totalcharges        6531\n",
       "churn                  2\n",
       "dtype: int64"
      ]
     },
     "execution_count": 339,
     "metadata": {},
     "output_type": "execute_result"
    }
   ],
   "source": [
    "# determine actual categorical features \n",
    "# totalcharges is object variable but it has 6531 unique values.\n",
    "data.nunique()"
   ]
  },
  {
   "cell_type": "code",
   "execution_count": 340,
   "metadata": {},
   "outputs": [
    {
     "data": {
      "text/plain": [
       "customerid          0\n",
       "gender              0\n",
       "seniorcitizen       0\n",
       "partner             0\n",
       "dependents          0\n",
       "tenure              0\n",
       "phoneservice        0\n",
       "multiplelines       0\n",
       "internetservice     0\n",
       "onlinesecurity      0\n",
       "onlinebackup        0\n",
       "deviceprotection    0\n",
       "techsupport         0\n",
       "streamingtv         0\n",
       "streamingmovies     0\n",
       "contract            0\n",
       "paperlessbilling    0\n",
       "paymentmethod       0\n",
       "monthlycharges      0\n",
       "totalcharges        0\n",
       "churn               0\n",
       "dtype: int64"
      ]
     },
     "execution_count": 340,
     "metadata": {},
     "output_type": "execute_result"
    }
   ],
   "source": [
    "#dataset is cleaned and there is no null value.\n",
    "data.isnull().sum()"
   ]
  },
  {
   "cell_type": "code",
   "execution_count": 341,
   "metadata": {},
   "outputs": [
    {
     "data": {
      "text/plain": [
       "7043"
      ]
     },
     "execution_count": 341,
     "metadata": {},
     "output_type": "execute_result"
    }
   ],
   "source": [
    "#There are 7043 rows and 21 columns.\n",
    "len(data)"
   ]
  },
  {
   "cell_type": "code",
   "execution_count": 342,
   "metadata": {},
   "outputs": [
    {
     "data": {
      "text/plain": [
       "21"
      ]
     },
     "execution_count": 342,
     "metadata": {},
     "output_type": "execute_result"
    }
   ],
   "source": [
    "len(data.columns)"
   ]
  },
  {
   "cell_type": "code",
   "execution_count": 343,
   "metadata": {},
   "outputs": [
    {
     "data": {
      "text/plain": [
       "Index(['customerid', 'gender', 'seniorcitizen', 'partner', 'dependents',\n",
       "       'tenure', 'phoneservice', 'multiplelines', 'internetservice',\n",
       "       'onlinesecurity', 'onlinebackup', 'deviceprotection', 'techsupport',\n",
       "       'streamingtv', 'streamingmovies', 'contract', 'paperlessbilling',\n",
       "       'paymentmethod', 'monthlycharges', 'totalcharges', 'churn'],\n",
       "      dtype='object')"
      ]
     },
     "execution_count": 343,
     "metadata": {},
     "output_type": "execute_result"
    }
   ],
   "source": [
    "#Here is the column names.\n",
    "data.columns"
   ]
  },
  {
   "cell_type": "code",
   "execution_count": 344,
   "metadata": {},
   "outputs": [],
   "source": [
    "#data['totalcharges2'] = pd.to_numeric(data['totalcharges'].str.lstrip())"
   ]
  },
  {
   "cell_type": "code",
   "execution_count": 345,
   "metadata": {},
   "outputs": [],
   "source": [
    "#type(data['totalcharges'][1])"
   ]
  },
  {
   "cell_type": "code",
   "execution_count": 346,
   "metadata": {},
   "outputs": [],
   "source": [
    "#totalcharges column is not numeric. so it should be converted to numeric variable. \n",
    "data['totalcharges'] = pd.to_numeric(data['totalcharges'],errors='coerce')"
   ]
  },
  {
   "cell_type": "code",
   "execution_count": 347,
   "metadata": {},
   "outputs": [
    {
     "data": {
      "text/plain": [
       "11"
      ]
     },
     "execution_count": 347,
     "metadata": {},
     "output_type": "execute_result"
    }
   ],
   "source": [
    "#As we forced conversion to numeric data, missing values could not be converted and appeared as null value.\n",
    "data['totalcharges'].isnull().sum()"
   ]
  },
  {
   "cell_type": "code",
   "execution_count": 348,
   "metadata": {},
   "outputs": [],
   "source": [
    "#the rows with generated null values are dropped from the dataset. \n",
    "data.dropna(inplace=True)"
   ]
  },
  {
   "cell_type": "code",
   "execution_count": 349,
   "metadata": {},
   "outputs": [
    {
     "data": {
      "text/plain": [
       "array([<matplotlib.axes._subplots.AxesSubplot object at 0x000001CE8F8FA388>,\n",
       "       <matplotlib.axes._subplots.AxesSubplot object at 0x000001CE8F90BB88>],\n",
       "      dtype=object)"
      ]
     },
     "execution_count": 349,
     "metadata": {},
     "output_type": "execute_result"
    },
    {
     "data": {
      "image/png": "[encoded data removed]",
      "text/plain": [
       "<Figure size 432x288 with 2 Axes>"
      ]
     },
     "metadata": {
      "needs_background": "light"
     },
     "output_type": "display_data"
    }
   ],
   "source": [
    "#Most of the customers who pay as low as 25$ stayed with the company.\n",
    "#most of the churned customers pas higher than 75$\n",
    "data['monthlycharges'].hist(by=data['churn'])"
   ]
  },
  {
   "cell_type": "code",
   "execution_count": 350,
   "metadata": {},
   "outputs": [
    {
     "data": {
      "text/plain": [
       "array([<matplotlib.axes._subplots.AxesSubplot object at 0x000001CE90EBD788>,\n",
       "       <matplotlib.axes._subplots.AxesSubplot object at 0x000001CE8F9D7788>],\n",
       "      dtype=object)"
      ]
     },
     "execution_count": 350,
     "metadata": {},
     "output_type": "execute_result"
    },
    {
     "data": {
      "image/png": "[encoded data removed]",
      "text/plain": [
       "<Figure size 432x288 with 2 Axes>"
      ]
     },
     "metadata": {
      "needs_background": "light"
     },
     "output_type": "display_data"
    }
   ],
   "source": [
    "# most of the churned customers where within their first 5 months of contract\n",
    "data['tenure'].hist(by=data['churn'])"
   ]
  },
  {
   "cell_type": "code",
   "execution_count": 351,
   "metadata": {},
   "outputs": [
    {
     "data": {
      "text/plain": [
       "array([<matplotlib.axes._subplots.AxesSubplot object at 0x000001CE9127B908>,\n",
       "       <matplotlib.axes._subplots.AxesSubplot object at 0x000001CE91296488>],\n",
       "      dtype=object)"
      ]
     },
     "execution_count": 351,
     "metadata": {},
     "output_type": "execute_result"
    },
    {
     "data": {
      "image/png": "[encoded data removed]",
      "text/plain": [
       "<Figure size 432x288 with 2 Axes>"
      ]
     },
     "metadata": {
      "needs_background": "light"
     },
     "output_type": "display_data"
    }
   ],
   "source": [
    "data['totalcharges'].hist(by=data['churn'])"
   ]
  },
  {
   "cell_type": "code",
   "execution_count": 353,
   "metadata": {},
   "outputs": [],
   "source": [
    "numerical_columns_list = ['tenure', 'monthlycharges', 'totalcharges']"
   ]
  },
  {
   "cell_type": "code",
   "execution_count": 354,
   "metadata": {},
   "outputs": [
    {
     "data": {
      "image/png": "[encoded data removed]",
      "text/plain": [
       "<Figure size 432x288 with 1 Axes>"
      ]
     },
     "metadata": {
      "needs_background": "light"
     },
     "output_type": "display_data"
    },
    {
     "data": {
      "image/png": "[encoded data removed]",
      "text/plain": [
       "<Figure size 432x288 with 1 Axes>"
      ]
     },
     "metadata": {
      "needs_background": "light"
     },
     "output_type": "display_data"
    },
    {
     "data": {
      "image/png": "[encoded data removed]",
      "text/plain": [
       "<Figure size 432x288 with 1 Axes>"
      ]
     },
     "metadata": {
      "needs_background": "light"
     },
     "output_type": "display_data"
    }
   ],
   "source": [
    "for col in numerical_columns_list:\n",
    "    sns.boxplot(data=data,y=col, x='churn')\n",
    "    plt.show()"
   ]
  },
  {
   "cell_type": "code",
   "execution_count": 355,
   "metadata": {},
   "outputs": [],
   "source": [
    "#list(data._get_numeric_data().columns)\n",
    "#list[data.drop('monthlycharges',axis=1).columns]\n",
    "#What is wrong here???????????????????????????????????????????????????????????????????????????????????????????????????????????????????\n",
    "#categorical_feat = list(filter(lambda col:col not in list(data._get_numeric_data().columns)+['customerid','churn'], data.columns))"
   ]
  },
  {
   "cell_type": "code",
   "execution_count": 356,
   "metadata": {},
   "outputs": [],
   "source": [
    "categorical_feat = ['gender', 'partner', 'dependents', 'phoneservice', 'multiplelines', 'internetservice', 'onlinesecurity'\n",
    "                     , 'onlinebackup', 'deviceprotection', 'techsupport', 'streamingtv', 'streamingmovies', 'contract', \n",
    "                     'paperlessbilling', 'paymentmethod']"
   ]
  },
  {
   "cell_type": "code",
   "execution_count": 357,
   "metadata": {},
   "outputs": [
    {
     "data": {
      "text/html": [
       "<div>\n",
       "<style scoped>\n",
       "    .dataframe tbody tr th:only-of-type {\n",
       "        vertical-align: middle;\n",
       "    }\n",
       "\n",
       "    .dataframe tbody tr th {\n",
       "        vertical-align: top;\n",
       "    }\n",
       "\n",
       "    .dataframe thead th {\n",
       "        text-align: right;\n",
       "    }\n",
       "</style>\n",
       "<table border=\"1\" class=\"dataframe\">\n",
       "  <thead>\n",
       "    <tr style=\"text-align: right;\">\n",
       "      <th></th>\n",
       "      <th>seniorcitizen</th>\n",
       "      <th>tenure</th>\n",
       "      <th>monthlycharges</th>\n",
       "      <th>totalcharges</th>\n",
       "    </tr>\n",
       "  </thead>\n",
       "  <tbody>\n",
       "    <tr>\n",
       "      <td>0</td>\n",
       "      <td>0</td>\n",
       "      <td>1</td>\n",
       "      <td>29.85</td>\n",
       "      <td>29.85</td>\n",
       "    </tr>\n",
       "    <tr>\n",
       "      <td>1</td>\n",
       "      <td>0</td>\n",
       "      <td>34</td>\n",
       "      <td>56.95</td>\n",
       "      <td>1889.50</td>\n",
       "    </tr>\n",
       "    <tr>\n",
       "      <td>2</td>\n",
       "      <td>0</td>\n",
       "      <td>2</td>\n",
       "      <td>53.85</td>\n",
       "      <td>108.15</td>\n",
       "    </tr>\n",
       "    <tr>\n",
       "      <td>3</td>\n",
       "      <td>0</td>\n",
       "      <td>45</td>\n",
       "      <td>42.30</td>\n",
       "      <td>1840.75</td>\n",
       "    </tr>\n",
       "    <tr>\n",
       "      <td>4</td>\n",
       "      <td>0</td>\n",
       "      <td>2</td>\n",
       "      <td>70.70</td>\n",
       "      <td>151.65</td>\n",
       "    </tr>\n",
       "    <tr>\n",
       "      <td>...</td>\n",
       "      <td>...</td>\n",
       "      <td>...</td>\n",
       "      <td>...</td>\n",
       "      <td>...</td>\n",
       "    </tr>\n",
       "    <tr>\n",
       "      <td>7038</td>\n",
       "      <td>0</td>\n",
       "      <td>24</td>\n",
       "      <td>84.80</td>\n",
       "      <td>1990.50</td>\n",
       "    </tr>\n",
       "    <tr>\n",
       "      <td>7039</td>\n",
       "      <td>0</td>\n",
       "      <td>72</td>\n",
       "      <td>103.20</td>\n",
       "      <td>7362.90</td>\n",
       "    </tr>\n",
       "    <tr>\n",
       "      <td>7040</td>\n",
       "      <td>0</td>\n",
       "      <td>11</td>\n",
       "      <td>29.60</td>\n",
       "      <td>346.45</td>\n",
       "    </tr>\n",
       "    <tr>\n",
       "      <td>7041</td>\n",
       "      <td>1</td>\n",
       "      <td>4</td>\n",
       "      <td>74.40</td>\n",
       "      <td>306.60</td>\n",
       "    </tr>\n",
       "    <tr>\n",
       "      <td>7042</td>\n",
       "      <td>0</td>\n",
       "      <td>66</td>\n",
       "      <td>105.65</td>\n",
       "      <td>6844.50</td>\n",
       "    </tr>\n",
       "  </tbody>\n",
       "</table>\n",
       "<p>7032 rows × 4 columns</p>\n",
       "</div>"
      ],
      "text/plain": [
       "      seniorcitizen  tenure  monthlycharges  totalcharges\n",
       "0                 0       1           29.85         29.85\n",
       "1                 0      34           56.95       1889.50\n",
       "2                 0       2           53.85        108.15\n",
       "3                 0      45           42.30       1840.75\n",
       "4                 0       2           70.70        151.65\n",
       "...             ...     ...             ...           ...\n",
       "7038              0      24           84.80       1990.50\n",
       "7039              0      72          103.20       7362.90\n",
       "7040              0      11           29.60        346.45\n",
       "7041              1       4           74.40        306.60\n",
       "7042              0      66          105.65       6844.50\n",
       "\n",
       "[7032 rows x 4 columns]"
      ]
     },
     "execution_count": 357,
     "metadata": {},
     "output_type": "execute_result"
    }
   ],
   "source": [
    "data._get_numeric_data()"
   ]
  },
  {
   "cell_type": "code",
   "execution_count": 358,
   "metadata": {
    "scrolled": false
   },
   "outputs": [
    {
     "data": {
      "text/html": [
       "<div>\n",
       "<style scoped>\n",
       "    .dataframe tbody tr th:only-of-type {\n",
       "        vertical-align: middle;\n",
       "    }\n",
       "\n",
       "    .dataframe tbody tr th {\n",
       "        vertical-align: top;\n",
       "    }\n",
       "\n",
       "    .dataframe thead th {\n",
       "        text-align: right;\n",
       "    }\n",
       "</style>\n",
       "<table border=\"1\" class=\"dataframe\">\n",
       "  <thead>\n",
       "    <tr style=\"text-align: right;\">\n",
       "      <th></th>\n",
       "      <th>gender_Male</th>\n",
       "      <th>partner_Yes</th>\n",
       "      <th>dependents_Yes</th>\n",
       "      <th>phoneservice_Yes</th>\n",
       "      <th>multiplelines_No phone service</th>\n",
       "      <th>multiplelines_Yes</th>\n",
       "      <th>internetservice_Fiber optic</th>\n",
       "      <th>internetservice_No</th>\n",
       "      <th>onlinesecurity_No internet service</th>\n",
       "      <th>onlinesecurity_Yes</th>\n",
       "      <th>...</th>\n",
       "      <th>streamingtv_No internet service</th>\n",
       "      <th>streamingtv_Yes</th>\n",
       "      <th>streamingmovies_No internet service</th>\n",
       "      <th>streamingmovies_Yes</th>\n",
       "      <th>contract_One year</th>\n",
       "      <th>contract_Two year</th>\n",
       "      <th>paperlessbilling_Yes</th>\n",
       "      <th>paymentmethod_Credit card (automatic)</th>\n",
       "      <th>paymentmethod_Electronic check</th>\n",
       "      <th>paymentmethod_Mailed check</th>\n",
       "    </tr>\n",
       "  </thead>\n",
       "  <tbody>\n",
       "    <tr>\n",
       "      <td>0</td>\n",
       "      <td>0</td>\n",
       "      <td>1</td>\n",
       "      <td>0</td>\n",
       "      <td>0</td>\n",
       "      <td>1</td>\n",
       "      <td>0</td>\n",
       "      <td>0</td>\n",
       "      <td>0</td>\n",
       "      <td>0</td>\n",
       "      <td>0</td>\n",
       "      <td>...</td>\n",
       "      <td>0</td>\n",
       "      <td>0</td>\n",
       "      <td>0</td>\n",
       "      <td>0</td>\n",
       "      <td>0</td>\n",
       "      <td>0</td>\n",
       "      <td>1</td>\n",
       "      <td>0</td>\n",
       "      <td>1</td>\n",
       "      <td>0</td>\n",
       "    </tr>\n",
       "    <tr>\n",
       "      <td>1</td>\n",
       "      <td>1</td>\n",
       "      <td>0</td>\n",
       "      <td>0</td>\n",
       "      <td>1</td>\n",
       "      <td>0</td>\n",
       "      <td>0</td>\n",
       "      <td>0</td>\n",
       "      <td>0</td>\n",
       "      <td>0</td>\n",
       "      <td>1</td>\n",
       "      <td>...</td>\n",
       "      <td>0</td>\n",
       "      <td>0</td>\n",
       "      <td>0</td>\n",
       "      <td>0</td>\n",
       "      <td>1</td>\n",
       "      <td>0</td>\n",
       "      <td>0</td>\n",
       "      <td>0</td>\n",
       "      <td>0</td>\n",
       "      <td>1</td>\n",
       "    </tr>\n",
       "    <tr>\n",
       "      <td>2</td>\n",
       "      <td>1</td>\n",
       "      <td>0</td>\n",
       "      <td>0</td>\n",
       "      <td>1</td>\n",
       "      <td>0</td>\n",
       "      <td>0</td>\n",
       "      <td>0</td>\n",
       "      <td>0</td>\n",
       "      <td>0</td>\n",
       "      <td>1</td>\n",
       "      <td>...</td>\n",
       "      <td>0</td>\n",
       "      <td>0</td>\n",
       "      <td>0</td>\n",
       "      <td>0</td>\n",
       "      <td>0</td>\n",
       "      <td>0</td>\n",
       "      <td>1</td>\n",
       "      <td>0</td>\n",
       "      <td>0</td>\n",
       "      <td>1</td>\n",
       "    </tr>\n",
       "    <tr>\n",
       "      <td>3</td>\n",
       "      <td>1</td>\n",
       "      <td>0</td>\n",
       "      <td>0</td>\n",
       "      <td>0</td>\n",
       "      <td>1</td>\n",
       "      <td>0</td>\n",
       "      <td>0</td>\n",
       "      <td>0</td>\n",
       "      <td>0</td>\n",
       "      <td>1</td>\n",
       "      <td>...</td>\n",
       "      <td>0</td>\n",
       "      <td>0</td>\n",
       "      <td>0</td>\n",
       "      <td>0</td>\n",
       "      <td>1</td>\n",
       "      <td>0</td>\n",
       "      <td>0</td>\n",
       "      <td>0</td>\n",
       "      <td>0</td>\n",
       "      <td>0</td>\n",
       "    </tr>\n",
       "    <tr>\n",
       "      <td>4</td>\n",
       "      <td>0</td>\n",
       "      <td>0</td>\n",
       "      <td>0</td>\n",
       "      <td>1</td>\n",
       "      <td>0</td>\n",
       "      <td>0</td>\n",
       "      <td>1</td>\n",
       "      <td>0</td>\n",
       "      <td>0</td>\n",
       "      <td>0</td>\n",
       "      <td>...</td>\n",
       "      <td>0</td>\n",
       "      <td>0</td>\n",
       "      <td>0</td>\n",
       "      <td>0</td>\n",
       "      <td>0</td>\n",
       "      <td>0</td>\n",
       "      <td>1</td>\n",
       "      <td>0</td>\n",
       "      <td>1</td>\n",
       "      <td>0</td>\n",
       "    </tr>\n",
       "    <tr>\n",
       "      <td>...</td>\n",
       "      <td>...</td>\n",
       "      <td>...</td>\n",
       "      <td>...</td>\n",
       "      <td>...</td>\n",
       "      <td>...</td>\n",
       "      <td>...</td>\n",
       "      <td>...</td>\n",
       "      <td>...</td>\n",
       "      <td>...</td>\n",
       "      <td>...</td>\n",
       "      <td>...</td>\n",
       "      <td>...</td>\n",
       "      <td>...</td>\n",
       "      <td>...</td>\n",
       "      <td>...</td>\n",
       "      <td>...</td>\n",
       "      <td>...</td>\n",
       "      <td>...</td>\n",
       "      <td>...</td>\n",
       "      <td>...</td>\n",
       "      <td>...</td>\n",
       "    </tr>\n",
       "    <tr>\n",
       "      <td>7038</td>\n",
       "      <td>1</td>\n",
       "      <td>1</td>\n",
       "      <td>1</td>\n",
       "      <td>1</td>\n",
       "      <td>0</td>\n",
       "      <td>1</td>\n",
       "      <td>0</td>\n",
       "      <td>0</td>\n",
       "      <td>0</td>\n",
       "      <td>1</td>\n",
       "      <td>...</td>\n",
       "      <td>0</td>\n",
       "      <td>1</td>\n",
       "      <td>0</td>\n",
       "      <td>1</td>\n",
       "      <td>1</td>\n",
       "      <td>0</td>\n",
       "      <td>1</td>\n",
       "      <td>0</td>\n",
       "      <td>0</td>\n",
       "      <td>1</td>\n",
       "    </tr>\n",
       "    <tr>\n",
       "      <td>7039</td>\n",
       "      <td>0</td>\n",
       "      <td>1</td>\n",
       "      <td>1</td>\n",
       "      <td>1</td>\n",
       "      <td>0</td>\n",
       "      <td>1</td>\n",
       "      <td>1</td>\n",
       "      <td>0</td>\n",
       "      <td>0</td>\n",
       "      <td>0</td>\n",
       "      <td>...</td>\n",
       "      <td>0</td>\n",
       "      <td>1</td>\n",
       "      <td>0</td>\n",
       "      <td>1</td>\n",
       "      <td>1</td>\n",
       "      <td>0</td>\n",
       "      <td>1</td>\n",
       "      <td>1</td>\n",
       "      <td>0</td>\n",
       "      <td>0</td>\n",
       "    </tr>\n",
       "    <tr>\n",
       "      <td>7040</td>\n",
       "      <td>0</td>\n",
       "      <td>1</td>\n",
       "      <td>1</td>\n",
       "      <td>0</td>\n",
       "      <td>1</td>\n",
       "      <td>0</td>\n",
       "      <td>0</td>\n",
       "      <td>0</td>\n",
       "      <td>0</td>\n",
       "      <td>1</td>\n",
       "      <td>...</td>\n",
       "      <td>0</td>\n",
       "      <td>0</td>\n",
       "      <td>0</td>\n",
       "      <td>0</td>\n",
       "      <td>0</td>\n",
       "      <td>0</td>\n",
       "      <td>1</td>\n",
       "      <td>0</td>\n",
       "      <td>1</td>\n",
       "      <td>0</td>\n",
       "    </tr>\n",
       "    <tr>\n",
       "      <td>7041</td>\n",
       "      <td>1</td>\n",
       "      <td>1</td>\n",
       "      <td>0</td>\n",
       "      <td>1</td>\n",
       "      <td>0</td>\n",
       "      <td>1</td>\n",
       "      <td>1</td>\n",
       "      <td>0</td>\n",
       "      <td>0</td>\n",
       "      <td>0</td>\n",
       "      <td>...</td>\n",
       "      <td>0</td>\n",
       "      <td>0</td>\n",
       "      <td>0</td>\n",
       "      <td>0</td>\n",
       "      <td>0</td>\n",
       "      <td>0</td>\n",
       "      <td>1</td>\n",
       "      <td>0</td>\n",
       "      <td>0</td>\n",
       "      <td>1</td>\n",
       "    </tr>\n",
       "    <tr>\n",
       "      <td>7042</td>\n",
       "      <td>1</td>\n",
       "      <td>0</td>\n",
       "      <td>0</td>\n",
       "      <td>1</td>\n",
       "      <td>0</td>\n",
       "      <td>0</td>\n",
       "      <td>1</td>\n",
       "      <td>0</td>\n",
       "      <td>0</td>\n",
       "      <td>1</td>\n",
       "      <td>...</td>\n",
       "      <td>0</td>\n",
       "      <td>1</td>\n",
       "      <td>0</td>\n",
       "      <td>1</td>\n",
       "      <td>0</td>\n",
       "      <td>1</td>\n",
       "      <td>1</td>\n",
       "      <td>0</td>\n",
       "      <td>0</td>\n",
       "      <td>0</td>\n",
       "    </tr>\n",
       "  </tbody>\n",
       "</table>\n",
       "<p>7032 rows × 26 columns</p>\n",
       "</div>"
      ],
      "text/plain": [
       "      gender_Male  partner_Yes  dependents_Yes  phoneservice_Yes  \\\n",
       "0               0            1               0                 0   \n",
       "1               1            0               0                 1   \n",
       "2               1            0               0                 1   \n",
       "3               1            0               0                 0   \n",
       "4               0            0               0                 1   \n",
       "...           ...          ...             ...               ...   \n",
       "7038            1            1               1                 1   \n",
       "7039            0            1               1                 1   \n",
       "7040            0            1               1                 0   \n",
       "7041            1            1               0                 1   \n",
       "7042            1            0               0                 1   \n",
       "\n",
       "      multiplelines_No phone service  multiplelines_Yes  \\\n",
       "0                                  1                  0   \n",
       "1                                  0                  0   \n",
       "2                                  0                  0   \n",
       "3                                  1                  0   \n",
       "4                                  0                  0   \n",
       "...                              ...                ...   \n",
       "7038                               0                  1   \n",
       "7039                               0                  1   \n",
       "7040                               1                  0   \n",
       "7041                               0                  1   \n",
       "7042                               0                  0   \n",
       "\n",
       "      internetservice_Fiber optic  internetservice_No  \\\n",
       "0                               0                   0   \n",
       "1                               0                   0   \n",
       "2                               0                   0   \n",
       "3                               0                   0   \n",
       "4                               1                   0   \n",
       "...                           ...                 ...   \n",
       "7038                            0                   0   \n",
       "7039                            1                   0   \n",
       "7040                            0                   0   \n",
       "7041                            1                   0   \n",
       "7042                            1                   0   \n",
       "\n",
       "      onlinesecurity_No internet service  onlinesecurity_Yes  ...  \\\n",
       "0                                      0                   0  ...   \n",
       "1                                      0                   1  ...   \n",
       "2                                      0                   1  ...   \n",
       "3                                      0                   1  ...   \n",
       "4                                      0                   0  ...   \n",
       "...                                  ...                 ...  ...   \n",
       "7038                                   0                   1  ...   \n",
       "7039                                   0                   0  ...   \n",
       "7040                                   0                   1  ...   \n",
       "7041                                   0                   0  ...   \n",
       "7042                                   0                   1  ...   \n",
       "\n",
       "      streamingtv_No internet service  streamingtv_Yes  \\\n",
       "0                                   0                0   \n",
       "1                                   0                0   \n",
       "2                                   0                0   \n",
       "3                                   0                0   \n",
       "4                                   0                0   \n",
       "...                               ...              ...   \n",
       "7038                                0                1   \n",
       "7039                                0                1   \n",
       "7040                                0                0   \n",
       "7041                                0                0   \n",
       "7042                                0                1   \n",
       "\n",
       "      streamingmovies_No internet service  streamingmovies_Yes  \\\n",
       "0                                       0                    0   \n",
       "1                                       0                    0   \n",
       "2                                       0                    0   \n",
       "3                                       0                    0   \n",
       "4                                       0                    0   \n",
       "...                                   ...                  ...   \n",
       "7038                                    0                    1   \n",
       "7039                                    0                    1   \n",
       "7040                                    0                    0   \n",
       "7041                                    0                    0   \n",
       "7042                                    0                    1   \n",
       "\n",
       "      contract_One year  contract_Two year  paperlessbilling_Yes  \\\n",
       "0                     0                  0                     1   \n",
       "1                     1                  0                     0   \n",
       "2                     0                  0                     1   \n",
       "3                     1                  0                     0   \n",
       "4                     0                  0                     1   \n",
       "...                 ...                ...                   ...   \n",
       "7038                  1                  0                     1   \n",
       "7039                  1                  0                     1   \n",
       "7040                  0                  0                     1   \n",
       "7041                  0                  0                     1   \n",
       "7042                  0                  1                     1   \n",
       "\n",
       "      paymentmethod_Credit card (automatic)  paymentmethod_Electronic check  \\\n",
       "0                                         0                               1   \n",
       "1                                         0                               0   \n",
       "2                                         0                               0   \n",
       "3                                         0                               0   \n",
       "4                                         0                               1   \n",
       "...                                     ...                             ...   \n",
       "7038                                      0                               0   \n",
       "7039                                      1                               0   \n",
       "7040                                      0                               1   \n",
       "7041                                      0                               0   \n",
       "7042                                      0                               0   \n",
       "\n",
       "      paymentmethod_Mailed check  \n",
       "0                              0  \n",
       "1                              1  \n",
       "2                              1  \n",
       "3                              0  \n",
       "4                              0  \n",
       "...                          ...  \n",
       "7038                           1  \n",
       "7039                           0  \n",
       "7040                           0  \n",
       "7041                           1  \n",
       "7042                           0  \n",
       "\n",
       "[7032 rows x 26 columns]"
      ]
     },
     "execution_count": 358,
     "metadata": {},
     "output_type": "execute_result"
    }
   ],
   "source": [
    "pd.get_dummies(data[categorical_feat],drop_first=True)"
   ]
  },
  {
   "cell_type": "code",
   "execution_count": 359,
   "metadata": {},
   "outputs": [],
   "source": [
    "df = pd.concat([pd.get_dummies(data[categorical_feat],drop_first=True),data._get_numeric_data(),data['churn']],axis=1)\n",
    "    "
   ]
  },
  {
   "cell_type": "code",
   "execution_count": 360,
   "metadata": {},
   "outputs": [
    {
     "data": {
      "text/plain": [
       "No     5163\n",
       "Yes    1869\n",
       "Name: churn, dtype: int64"
      ]
     },
     "execution_count": 360,
     "metadata": {},
     "output_type": "execute_result"
    }
   ],
   "source": [
    "df['churn'].value_counts()"
   ]
  },
  {
   "cell_type": "code",
   "execution_count": 361,
   "metadata": {},
   "outputs": [
    {
     "data": {
      "text/plain": [
       "<matplotlib.axes._subplots.AxesSubplot at 0x1ce911c5a08>"
      ]
     },
     "execution_count": 361,
     "metadata": {},
     "output_type": "execute_result"
    },
    {
     "data": {
      "image/png": "[encoded data removed]",
      "text/plain": [
       "<Figure size 432x288 with 1 Axes>"
      ]
     },
     "metadata": {
      "needs_background": "light"
     },
     "output_type": "display_data"
    }
   ],
   "source": [
    "df['churn'].value_counts().plot.bar()"
   ]
  },
  {
   "cell_type": "code",
   "execution_count": 362,
   "metadata": {},
   "outputs": [
    {
     "data": {
      "text/html": [
       "<div>\n",
       "<style scoped>\n",
       "    .dataframe tbody tr th:only-of-type {\n",
       "        vertical-align: middle;\n",
       "    }\n",
       "\n",
       "    .dataframe tbody tr th {\n",
       "        vertical-align: top;\n",
       "    }\n",
       "\n",
       "    .dataframe thead th {\n",
       "        text-align: right;\n",
       "    }\n",
       "</style>\n",
       "<table border=\"1\" class=\"dataframe\">\n",
       "  <thead>\n",
       "    <tr style=\"text-align: right;\">\n",
       "      <th></th>\n",
       "      <th>gender_Male</th>\n",
       "      <th>partner_Yes</th>\n",
       "      <th>dependents_Yes</th>\n",
       "      <th>phoneservice_Yes</th>\n",
       "      <th>multiplelines_No phone service</th>\n",
       "      <th>multiplelines_Yes</th>\n",
       "      <th>internetservice_Fiber optic</th>\n",
       "      <th>internetservice_No</th>\n",
       "      <th>onlinesecurity_No internet service</th>\n",
       "      <th>onlinesecurity_Yes</th>\n",
       "      <th>...</th>\n",
       "      <th>contract_Two year</th>\n",
       "      <th>paperlessbilling_Yes</th>\n",
       "      <th>paymentmethod_Credit card (automatic)</th>\n",
       "      <th>paymentmethod_Electronic check</th>\n",
       "      <th>paymentmethod_Mailed check</th>\n",
       "      <th>seniorcitizen</th>\n",
       "      <th>tenure</th>\n",
       "      <th>monthlycharges</th>\n",
       "      <th>totalcharges</th>\n",
       "      <th>churn</th>\n",
       "    </tr>\n",
       "  </thead>\n",
       "  <tbody>\n",
       "    <tr>\n",
       "      <td>0</td>\n",
       "      <td>0</td>\n",
       "      <td>1</td>\n",
       "      <td>0</td>\n",
       "      <td>0</td>\n",
       "      <td>1</td>\n",
       "      <td>0</td>\n",
       "      <td>0</td>\n",
       "      <td>0</td>\n",
       "      <td>0</td>\n",
       "      <td>0</td>\n",
       "      <td>...</td>\n",
       "      <td>0</td>\n",
       "      <td>1</td>\n",
       "      <td>0</td>\n",
       "      <td>1</td>\n",
       "      <td>0</td>\n",
       "      <td>0</td>\n",
       "      <td>1</td>\n",
       "      <td>29.85</td>\n",
       "      <td>29.85</td>\n",
       "      <td>No</td>\n",
       "    </tr>\n",
       "    <tr>\n",
       "      <td>1</td>\n",
       "      <td>1</td>\n",
       "      <td>0</td>\n",
       "      <td>0</td>\n",
       "      <td>1</td>\n",
       "      <td>0</td>\n",
       "      <td>0</td>\n",
       "      <td>0</td>\n",
       "      <td>0</td>\n",
       "      <td>0</td>\n",
       "      <td>1</td>\n",
       "      <td>...</td>\n",
       "      <td>0</td>\n",
       "      <td>0</td>\n",
       "      <td>0</td>\n",
       "      <td>0</td>\n",
       "      <td>1</td>\n",
       "      <td>0</td>\n",
       "      <td>34</td>\n",
       "      <td>56.95</td>\n",
       "      <td>1889.50</td>\n",
       "      <td>No</td>\n",
       "    </tr>\n",
       "    <tr>\n",
       "      <td>2</td>\n",
       "      <td>1</td>\n",
       "      <td>0</td>\n",
       "      <td>0</td>\n",
       "      <td>1</td>\n",
       "      <td>0</td>\n",
       "      <td>0</td>\n",
       "      <td>0</td>\n",
       "      <td>0</td>\n",
       "      <td>0</td>\n",
       "      <td>1</td>\n",
       "      <td>...</td>\n",
       "      <td>0</td>\n",
       "      <td>1</td>\n",
       "      <td>0</td>\n",
       "      <td>0</td>\n",
       "      <td>1</td>\n",
       "      <td>0</td>\n",
       "      <td>2</td>\n",
       "      <td>53.85</td>\n",
       "      <td>108.15</td>\n",
       "      <td>Yes</td>\n",
       "    </tr>\n",
       "    <tr>\n",
       "      <td>3</td>\n",
       "      <td>1</td>\n",
       "      <td>0</td>\n",
       "      <td>0</td>\n",
       "      <td>0</td>\n",
       "      <td>1</td>\n",
       "      <td>0</td>\n",
       "      <td>0</td>\n",
       "      <td>0</td>\n",
       "      <td>0</td>\n",
       "      <td>1</td>\n",
       "      <td>...</td>\n",
       "      <td>0</td>\n",
       "      <td>0</td>\n",
       "      <td>0</td>\n",
       "      <td>0</td>\n",
       "      <td>0</td>\n",
       "      <td>0</td>\n",
       "      <td>45</td>\n",
       "      <td>42.30</td>\n",
       "      <td>1840.75</td>\n",
       "      <td>No</td>\n",
       "    </tr>\n",
       "    <tr>\n",
       "      <td>4</td>\n",
       "      <td>0</td>\n",
       "      <td>0</td>\n",
       "      <td>0</td>\n",
       "      <td>1</td>\n",
       "      <td>0</td>\n",
       "      <td>0</td>\n",
       "      <td>1</td>\n",
       "      <td>0</td>\n",
       "      <td>0</td>\n",
       "      <td>0</td>\n",
       "      <td>...</td>\n",
       "      <td>0</td>\n",
       "      <td>1</td>\n",
       "      <td>0</td>\n",
       "      <td>1</td>\n",
       "      <td>0</td>\n",
       "      <td>0</td>\n",
       "      <td>2</td>\n",
       "      <td>70.70</td>\n",
       "      <td>151.65</td>\n",
       "      <td>Yes</td>\n",
       "    </tr>\n",
       "  </tbody>\n",
       "</table>\n",
       "<p>5 rows × 31 columns</p>\n",
       "</div>"
      ],
      "text/plain": [
       "   gender_Male  partner_Yes  dependents_Yes  phoneservice_Yes  \\\n",
       "0            0            1               0                 0   \n",
       "1            1            0               0                 1   \n",
       "2            1            0               0                 1   \n",
       "3            1            0               0                 0   \n",
       "4            0            0               0                 1   \n",
       "\n",
       "   multiplelines_No phone service  multiplelines_Yes  \\\n",
       "0                               1                  0   \n",
       "1                               0                  0   \n",
       "2                               0                  0   \n",
       "3                               1                  0   \n",
       "4                               0                  0   \n",
       "\n",
       "   internetservice_Fiber optic  internetservice_No  \\\n",
       "0                            0                   0   \n",
       "1                            0                   0   \n",
       "2                            0                   0   \n",
       "3                            0                   0   \n",
       "4                            1                   0   \n",
       "\n",
       "   onlinesecurity_No internet service  onlinesecurity_Yes  ...  \\\n",
       "0                                   0                   0  ...   \n",
       "1                                   0                   1  ...   \n",
       "2                                   0                   1  ...   \n",
       "3                                   0                   1  ...   \n",
       "4                                   0                   0  ...   \n",
       "\n",
       "   contract_Two year  paperlessbilling_Yes  \\\n",
       "0                  0                     1   \n",
       "1                  0                     0   \n",
       "2                  0                     1   \n",
       "3                  0                     0   \n",
       "4                  0                     1   \n",
       "\n",
       "   paymentmethod_Credit card (automatic)  paymentmethod_Electronic check  \\\n",
       "0                                      0                               1   \n",
       "1                                      0                               0   \n",
       "2                                      0                               0   \n",
       "3                                      0                               0   \n",
       "4                                      0                               1   \n",
       "\n",
       "   paymentmethod_Mailed check  seniorcitizen  tenure  monthlycharges  \\\n",
       "0                           0              0       1           29.85   \n",
       "1                           1              0      34           56.95   \n",
       "2                           1              0       2           53.85   \n",
       "3                           0              0      45           42.30   \n",
       "4                           0              0       2           70.70   \n",
       "\n",
       "   totalcharges  churn  \n",
       "0         29.85     No  \n",
       "1       1889.50     No  \n",
       "2        108.15    Yes  \n",
       "3       1840.75     No  \n",
       "4        151.65    Yes  \n",
       "\n",
       "[5 rows x 31 columns]"
      ]
     },
     "execution_count": 362,
     "metadata": {},
     "output_type": "execute_result"
    }
   ],
   "source": [
    "df.head()"
   ]
  },
  {
   "cell_type": "code",
   "execution_count": 363,
   "metadata": {},
   "outputs": [
    {
     "name": "stdout",
     "output_type": "stream",
     "text": [
      "<class 'pandas.core.frame.DataFrame'>\n",
      "Int64Index: 7032 entries, 0 to 7042\n",
      "Data columns (total 31 columns):\n",
      "gender_Male                              7032 non-null uint8\n",
      "partner_Yes                              7032 non-null uint8\n",
      "dependents_Yes                           7032 non-null uint8\n",
      "phoneservice_Yes                         7032 non-null uint8\n",
      "multiplelines_No phone service           7032 non-null uint8\n",
      "multiplelines_Yes                        7032 non-null uint8\n",
      "internetservice_Fiber optic              7032 non-null uint8\n",
      "internetservice_No                       7032 non-null uint8\n",
      "onlinesecurity_No internet service       7032 non-null uint8\n",
      "onlinesecurity_Yes                       7032 non-null uint8\n",
      "onlinebackup_No internet service         7032 non-null uint8\n",
      "onlinebackup_Yes                         7032 non-null uint8\n",
      "deviceprotection_No internet service     7032 non-null uint8\n",
      "deviceprotection_Yes                     7032 non-null uint8\n",
      "techsupport_No internet service          7032 non-null uint8\n",
      "techsupport_Yes                          7032 non-null uint8\n",
      "streamingtv_No internet service          7032 non-null uint8\n",
      "streamingtv_Yes                          7032 non-null uint8\n",
      "streamingmovies_No internet service      7032 non-null uint8\n",
      "streamingmovies_Yes                      7032 non-null uint8\n",
      "contract_One year                        7032 non-null uint8\n",
      "contract_Two year                        7032 non-null uint8\n",
      "paperlessbilling_Yes                     7032 non-null uint8\n",
      "paymentmethod_Credit card (automatic)    7032 non-null uint8\n",
      "paymentmethod_Electronic check           7032 non-null uint8\n",
      "paymentmethod_Mailed check               7032 non-null uint8\n",
      "seniorcitizen                            7032 non-null int64\n",
      "tenure                                   7032 non-null int64\n",
      "monthlycharges                           7032 non-null float64\n",
      "totalcharges                             7032 non-null float64\n",
      "churn                                    7032 non-null object\n",
      "dtypes: float64(2), int64(2), object(1), uint8(26)\n",
      "memory usage: 828.2+ KB\n"
     ]
    }
   ],
   "source": [
    "df.info()"
   ]
  },
  {
   "cell_type": "code",
   "execution_count": 364,
   "metadata": {},
   "outputs": [],
   "source": [
    "df['churn'] = df['churn'].map({'No':0, 'Yes':1})"
   ]
  },
  {
   "cell_type": "code",
   "execution_count": 365,
   "metadata": {},
   "outputs": [],
   "source": [
    "#Split the data into target variable (y) and prditive variables (X)\n",
    "X = df.drop('churn',axis=1)\n",
    "y= df['churn']"
   ]
  },
  {
   "cell_type": "code",
   "execution_count": 366,
   "metadata": {},
   "outputs": [],
   "source": [
    "# Using train_test_split, 67% od data was assigned to training set and 33% of data was assigned \n",
    "#to test set.\n",
    "X_train, X_test, y_train, y_test = train_test_split(X, y, test_size=0.33,\n",
    "                                                    random_state=42)"
   ]
  },
  {
   "cell_type": "markdown",
   "metadata": {},
   "source": [
    "Balancing training dataset through oversampling method and then applying SelectKBest method to select 10 best features."
   ]
  },
  {
   "cell_type": "code",
   "execution_count": 367,
   "metadata": {},
   "outputs": [],
   "source": [
    "train = pd.concat((X_train,y_train),axis=1)"
   ]
  },
  {
   "cell_type": "code",
   "execution_count": 368,
   "metadata": {},
   "outputs": [],
   "source": [
    "non_churned_customers = train[train['churn']==0] \n",
    "churned_customers = train[train['churn']==1]"
   ]
  },
  {
   "cell_type": "code",
   "execution_count": 369,
   "metadata": {},
   "outputs": [
    {
     "name": "stdout",
     "output_type": "stream",
     "text": [
      "length of train dataset is 4711\n",
      "length of non_churned_customers dataset is 3452\n",
      "length of churned_customers dataset is 1259\n",
      "ratio of non_churned to churned_customers in train dataset is 2.7418586179507547\n"
     ]
    }
   ],
   "source": [
    "print('length of train dataset is {}'.format(len(train)))\n",
    "print('length of non_churned_customers dataset is {}'.format(len(non_churned_customers)))\n",
    "print('length of churned_customers dataset is {}'.format(len(churned_customers)))\n",
    "print('ratio of non_churned to churned_customers in train dataset is {}'\n",
    "      .format(len(non_churned_customers)/len(churned_customers)))"
   ]
  },
  {
   "cell_type": "code",
   "execution_count": 370,
   "metadata": {},
   "outputs": [],
   "source": [
    "#To handle imbalanced dataset, SMOTE technique is used.\n",
    "smote = SMOTE()\n",
    "X_train, y_train = smote.fit_sample(X_train,y_train)"
   ]
  },
  {
   "cell_type": "code",
   "execution_count": 371,
   "metadata": {},
   "outputs": [],
   "source": [
    "train_smote = pd.concat((X_train,y_train),axis=1)"
   ]
  },
  {
   "cell_type": "code",
   "execution_count": 372,
   "metadata": {},
   "outputs": [],
   "source": [
    "non_churned_customers = train_smote[train_smote['churn']==0] \n",
    "churned_customers = train_smote[train_smote['churn']==1]"
   ]
  },
  {
   "cell_type": "code",
   "execution_count": 373,
   "metadata": {},
   "outputs": [
    {
     "name": "stdout",
     "output_type": "stream",
     "text": [
      "length of train dataset is 6904\n",
      "length of non_churned_customers dataset is 3452\n",
      "length of churned_customers dataset is 3452\n",
      "ratio of non_churned to churned_customers in train dataset is 1.0\n"
     ]
    }
   ],
   "source": [
    "print('length of train dataset is {}'.format(len(X_train)))\n",
    "print('length of non_churned_customers dataset is {}'.format(len(non_churned_customers)))\n",
    "print('length of churned_customers dataset is {}'.format(len(churned_customers)))\n",
    "print('ratio of non_churned to churned_customers in train dataset is {}'\n",
    "      .format(len(non_churned_customers)/len(churned_customers)))"
   ]
  },
  {
   "cell_type": "code",
   "execution_count": 268,
   "metadata": {},
   "outputs": [
    {
     "data": {
      "text/plain": [
       "6904"
      ]
     },
     "execution_count": 268,
     "metadata": {},
     "output_type": "execute_result"
    }
   ],
   "source": [
    "len(y_train)"
   ]
  },
  {
   "cell_type": "markdown",
   "metadata": {},
   "source": [
    "# Feature Selection by SelectKBest"
   ]
  },
  {
   "cell_type": "code",
   "execution_count": 103,
   "metadata": {},
   "outputs": [],
   "source": [
    "#To remove irrelevant or noisy features from the dataser, the selectKBest was used.\n",
    "#removing irrelevant features, speed up the training of model and enhance the accuracy score\n",
    "#This function select a number of features with highest correlation to the target.\n",
    "selector = SelectKBest(chi2,k=10)"
   ]
  },
  {
   "cell_type": "code",
   "execution_count": 104,
   "metadata": {},
   "outputs": [],
   "source": [
    "X_train_select = selector.fit_transform(X_train,y_train)"
   ]
  },
  {
   "cell_type": "code",
   "execution_count": 105,
   "metadata": {},
   "outputs": [],
   "source": [
    "cols = selector.get_support(indices=True)"
   ]
  },
  {
   "cell_type": "code",
   "execution_count": 106,
   "metadata": {},
   "outputs": [],
   "source": [
    "X_test_select = X_test.iloc[:,cols]"
   ]
  },
  {
   "cell_type": "code",
   "execution_count": 408,
   "metadata": {},
   "outputs": [
    {
     "data": {
      "text/plain": [
       "Index(['dependents_Yes', 'onlinesecurity_Yes',\n",
       "       'deviceprotection_No internet service',\n",
       "       'techsupport_No internet service', 'streamingtv_No internet service',\n",
       "       'streamingmovies_No internet service', 'contract_Two year', 'tenure',\n",
       "       'monthlycharges', 'totalcharges'],\n",
       "      dtype='object')"
      ]
     },
     "execution_count": 408,
     "metadata": {},
     "output_type": "execute_result"
    }
   ],
   "source": [
    "# selected important features are listed:\n",
    "train.iloc[:,cols].columns"
   ]
  },
  {
   "cell_type": "markdown",
   "metadata": {},
   "source": [
    "# Decision Tree Classifier"
   ]
  },
  {
   "cell_type": "code",
   "execution_count": 107,
   "metadata": {},
   "outputs": [],
   "source": [
    "# model tuned using grid search and the model with optimized hyperparameters is used for predictio and \n",
    "# evaluating the model performance.\n",
    "tree = DecisionTreeClassifier()\n",
    "param_grid = {'criterion':['entropy','gini'],'max_features':range(1,11),\n",
    "              'max_depth':range(1,11)}\n",
    "grid_tree = GridSearchCV(tree,param_grid,cv=10,scoring='accuracy',\n",
    "                         n_jobs=-1)\n",
    "grid_tree.fit(X_train_select,y_train)\n",
    "pred_grid_tree = grid_tree.predict(X_test_select)\n",
    "y_pred_grid_tree_prob_ = grid_tree.predict_proba(X_test_select)[:, 1]"
   ]
  },
  {
   "cell_type": "code",
   "execution_count": 108,
   "metadata": {},
   "outputs": [
    {
     "name": "stdout",
     "output_type": "stream",
     "text": [
      "The best estimator is DecisionTreeClassifier(max_depth=8, max_features=6)\n",
      "The best score is 0.8027475408460749\n",
      "The best parameters are {'criterion': 'gini', 'max_depth': 8, 'max_features': 6}\n"
     ]
    }
   ],
   "source": [
    "print('The best estimator is {}'.format(grid_tree.best_estimator_))\n",
    "print('The best score is {}'.format(grid_tree.best_score_))\n",
    "print('The best parameters are {}'.format(grid_tree.best_params_))"
   ]
  },
  {
   "cell_type": "code",
   "execution_count": 109,
   "metadata": {},
   "outputs": [
    {
     "name": "stdout",
     "output_type": "stream",
     "text": [
      "the Cross validation accuracy score for Decision tree model is 0.7751072961373391\n",
      "The confusion matrix for SVC model is:\n",
      "[[1266  445]\n",
      " [ 182  428]]\n",
      "Here is the classification report for logistic regression model:\n",
      "\n",
      "              precision    recall  f1-score   support\n",
      "\n",
      "           0       0.87      0.74      0.80      1711\n",
      "           1       0.49      0.70      0.58       610\n",
      "\n",
      "    accuracy                           0.73      2321\n",
      "   macro avg       0.68      0.72      0.69      2321\n",
      "weighted avg       0.77      0.73      0.74      2321\n",
      "\n",
      "The  Area Under the Precision-Recall Curve (AUPRC) score is:0.5531101844279286\n"
     ]
    }
   ],
   "source": [
    "\n",
    "print('the Cross validation accuracy score for Decision tree model is {}'\n",
    "      .format(np.mean(cross_val_score(grid_tree,X_test_select,y_test,\n",
    "                                      cv=10,n_jobs=-1))))\n",
    "print('The confusion matrix for SVC model is:')\n",
    "print(confusion_matrix(y_test,pred_grid_tree))\n",
    "print('Here is the classification report for logistic regression model:')\n",
    "print()\n",
    "print(classification_report(y_test,pred_grid_tree))\n",
    "\n",
    "# calculate AUC\n",
    "print('The  Area Under the Precision-Recall Curve (AUPRC) score is:{}'.format(\n",
    "    average_precision_score(y_test, y_pred_grid_tree_prob_)))\n",
    "\n",
    "#Because the dataset is imbalanced, it is important to look at recall and precision instead of accuracy\n",
    "#Tuned decision tree model resulted in high recall of 0.70, but a Low precision (0.49) indicates many false positive (455)\n",
    "#Confusion matrix also give us false negative, false positive, true positive, and true negative."
   ]
  },
  {
   "cell_type": "markdown",
   "metadata": {},
   "source": [
    "# Random Forest Classifier"
   ]
  },
  {
   "cell_type": "code",
   "execution_count": 111,
   "metadata": {},
   "outputs": [],
   "source": [
    "# model tuned using grid search and the model with optimized hyperparameters is used for predictio and \n",
    "# evaluating the model performance.\n",
    "\n",
    "rfc = RandomForestClassifier(n_jobs=-1)\n",
    "param_grid={'n_estimators':range(1,201,10), 'max_depth':range(1,11),\n",
    "           'criterion':['gini','entropy']}\n",
    "grid_rfc = GridSearchCV(rfc,param_grid,scoring = 'accuracy',cv=10, n_jobs=-1)\n",
    "grid_rfc.fit(X_train_select,y_train)\n",
    "pred_grid_rfc = grid_rfc.predict(X_test_select)\n",
    "y_pred_grid_rfc_prob_ = grid_rfc.predict_proba(X_test_select)[:, 1]"
   ]
  },
  {
   "cell_type": "code",
   "execution_count": 112,
   "metadata": {},
   "outputs": [
    {
     "name": "stdout",
     "output_type": "stream",
     "text": [
      "The best estimator is RandomForestClassifier(criterion='entropy', max_depth=10, n_estimators=141,\n",
      "                       n_jobs=-1)\n",
      "The best score is 0.8108607563078085\n",
      "The best parameters are {'criterion': 'entropy', 'max_depth': 10, 'n_estimators': 141}\n"
     ]
    }
   ],
   "source": [
    "print('The best estimator is {}'.format(grid_rfc.best_estimator_))\n",
    "print('The best score is {}'.format(grid_rfc.best_score_))\n",
    "print('The best parameters are {}'.format(grid_rfc.best_params_))"
   ]
  },
  {
   "cell_type": "code",
   "execution_count": 113,
   "metadata": {},
   "outputs": [
    {
     "name": "stdout",
     "output_type": "stream",
     "text": [
      "the cv accuracy score is 0.7906134379162351\n",
      "here is the confusion matrix:\n",
      "[[1299  412]\n",
      " [ 200  410]]\n",
      "Here is the classification report:\n",
      "              precision    recall  f1-score   support\n",
      "\n",
      "           0       0.87      0.76      0.81      1711\n",
      "           1       0.50      0.67      0.57       610\n",
      "\n",
      "    accuracy                           0.74      2321\n",
      "   macro avg       0.68      0.72      0.69      2321\n",
      "weighted avg       0.77      0.74      0.75      2321\n",
      "\n",
      "The  Area Under the Precision-Recall Curve (AUPRC) score is:0.610492083461311\n"
     ]
    }
   ],
   "source": [
    "print('the cv accuracy score is {}'.format(np.mean(cross_val_score(grid_rfc,X_test_select,y_test,cv=10,n_jobs=-1))))\n",
    "print('here is the confusion matrix:')\n",
    "print(confusion_matrix(y_test,pred_grid_rfc))\n",
    "print('Here is the classification report:')\n",
    "print(classification_report(y_test,pred_grid_rfc))\n",
    "# calculate AUC\n",
    "print('The  Area Under the Precision-Recall Curve (AUPRC) score is:{}'.format(\n",
    "    average_precision_score(y_test, y_pred_grid_rfc_prob_)))\n",
    "\n",
    "#Because of the many false positives (412), the precision is low (0.5) compare to recall score (0.67)."
   ]
  },
  {
   "cell_type": "markdown",
   "metadata": {},
   "source": [
    "# Logistic Regression Classifier"
   ]
  },
  {
   "cell_type": "code",
   "execution_count": 114,
   "metadata": {},
   "outputs": [],
   "source": [
    "# model tuned using grid search and the model with optimized hyperparameters is used for predictio and \n",
    "# evaluating the model performance.\n",
    "\n",
    "lr = LogisticRegression(n_jobs=-1, solver='lbfgs')\n",
    "param_grid = {'penalty':['none','l2'], 'C' : np.arange(0.1,3,0.1),'class_weight':['balanced',None]}\n",
    "grid_lr = GridSearchCV(lr,param_grid,scoring = 'accuracy',cv=10, n_jobs=-1)\n",
    "grid_lr.fit(X_train_select,y_train)\n",
    "pred_grid_lr = grid_lr.predict(X_test_select)\n",
    "y_pred_grid_lr_prob_ = grid_lr.predict_proba(X_test_select)[:, 1]"
   ]
  },
  {
   "cell_type": "code",
   "execution_count": 115,
   "metadata": {},
   "outputs": [
    {
     "name": "stdout",
     "output_type": "stream",
     "text": [
      "The best estimator is LogisticRegression(C=1.1, n_jobs=-1)\n",
      "The best score is 0.7943465676713019\n",
      "The best parameters are {'C': 1.1, 'class_weight': None, 'penalty': 'l2'}\n"
     ]
    }
   ],
   "source": [
    "print('The best estimator is {}'.format( grid_lr.best_estimator_))\n",
    "print('The best score is {}'.format(grid_lr.best_score_))\n",
    "print('The best parameters are {}'.format(grid_lr.best_params_))"
   ]
  },
  {
   "cell_type": "code",
   "execution_count": 116,
   "metadata": {},
   "outputs": [
    {
     "name": "stdout",
     "output_type": "stream",
     "text": [
      "the Cross validation accuracy score for Logistic Regression model is 0.7867359775048098\n",
      "The confusion matrix for SVC model is:\n",
      "[[1284  427]\n",
      " [ 175  435]]\n",
      "Here is the classification report for logistic regression model:\n",
      "\n",
      "              precision    recall  f1-score   support\n",
      "\n",
      "           0       0.88      0.75      0.81      1711\n",
      "           1       0.50      0.71      0.59       610\n",
      "\n",
      "    accuracy                           0.74      2321\n",
      "   macro avg       0.69      0.73      0.70      2321\n",
      "weighted avg       0.78      0.74      0.75      2321\n",
      "\n",
      "The  Area Under the Precision-Recall Curve (AUPRC) score is:0.5897780522264587\n"
     ]
    }
   ],
   "source": [
    "print('the Cross validation accuracy score for Logistic Regression model is {}'\n",
    "      .format(np.mean(cross_val_score(grid_lr,X_test_select,y_test,\n",
    "                                      cv=10,n_jobs=-1))))\n",
    "print('The confusion matrix for SVC model is:')\n",
    "print(confusion_matrix(y_test,pred_grid_lr))\n",
    "print('Here is the classification report for logistic regression model:')\n",
    "print()\n",
    "print(classification_report(y_test,pred_grid_lr))\n",
    "\n",
    "# calculate AUC\n",
    "print('The  Area Under the Precision-Recall Curve (AUPRC) score is:{}'.format(\n",
    "    average_precision_score(y_test, y_pred_grid_lr_prob_)))\n",
    "\n",
    "# While recall slightly improved compare to random forest model, but the precision is similar (0.50) because of \n",
    "# the many false positives"
   ]
  },
  {
   "cell_type": "markdown",
   "metadata": {},
   "source": [
    "# Support Vector Machine (SVM) Classifier"
   ]
  },
  {
   "cell_type": "code",
   "execution_count": 117,
   "metadata": {},
   "outputs": [],
   "source": [
    "# model tuned using grid search and the model with optimized hyperparameters is used for predictio and \n",
    "# evaluating the model performance.\n",
    "\n",
    "svc = SVC(probability=True)\n",
    "param_dist = {'kernel': ['rbf'], 'gamma': [1, 1e-1,1e-2,1e-3, 1e-4], 'C': [1, 10, 100, 1000]}\n",
    "#param_dist = [{'kernel': ['rbf'], 'gamma': [1, 1e-1,1e-2,1e-3, 1e-4], 'C': [1, 10, 100, 1000]}, \n",
    "#              {'kernel': ['linear'], 'C': [1, 10, 100, 1000]}]\n",
    "rand_svc = RandomizedSearchCV(svc,param_dist,cv=10,scoring='accuracy',n_iter=20,n_jobs=-1)\n",
    "rand_svc.fit(X_train_select,y_train)\n",
    "pred_rand_svc = rand_svc.predict(X_test_select)\n",
    "y_pred_rand_svc_prob_ = rand_svc.predict_proba(X_test_select)[:, 1]"
   ]
  },
  {
   "cell_type": "code",
   "execution_count": 118,
   "metadata": {},
   "outputs": [
    {
     "name": "stdout",
     "output_type": "stream",
     "text": [
      "The best estimator is SVC(C=10, gamma=0.1, probability=True)\n",
      "The best score is 0.8062136370309778\n",
      "The best parameters are {'kernel': 'rbf', 'gamma': 0.1, 'C': 10}\n"
     ]
    }
   ],
   "source": [
    "print('The best estimator is {}'.format( rand_svc.best_estimator_))\n",
    "print('The best score is {}'.format(rand_svc.best_score_))\n",
    "print('The best parameters are {}'.format(rand_svc.best_params_))"
   ]
  },
  {
   "cell_type": "code",
   "execution_count": 119,
   "metadata": {},
   "outputs": [
    {
     "name": "stdout",
     "output_type": "stream",
     "text": [
      "the Cross validation accuracy score for SVC model is 0.7733646588722807\n",
      "The confusion matrix for SVC model is:\n",
      "[[1477  234]\n",
      " [ 362  248]]\n",
      "Here is the classification report for knn model:\n",
      "              precision    recall  f1-score   support\n",
      "\n",
      "           0       0.80      0.86      0.83      1711\n",
      "           1       0.51      0.41      0.45       610\n",
      "\n",
      "    accuracy                           0.74      2321\n",
      "   macro avg       0.66      0.63      0.64      2321\n",
      "weighted avg       0.73      0.74      0.73      2321\n",
      "\n",
      "The  Area Under the Precision-Recall Curve (AUPRC) score is:0.45531047032670624\n"
     ]
    }
   ],
   "source": [
    "print('the Cross validation accuracy score for SVC model is {}'\n",
    "      .format(np.mean(cross_val_score(rand_svc,X_test_select,y_test,\n",
    "                                      cv=10,n_jobs=-1))))\n",
    "print('The confusion matrix for SVC model is:')\n",
    "print(confusion_matrix(y_test,pred_rand_svc))\n",
    "print('Here is the classification report for knn model:')\n",
    "print(classification_report(y_test,pred_rand_svc))\n",
    "\n",
    "# calculate AUC\n",
    "print('The  Area Under the Precision-Recall Curve (AUPRC) score is:{}'.format(\n",
    "    average_precision_score(y_test, y_pred_rand_svc_prob_)))\n",
    "\n",
    "#SVC model has similar precision score but has lower recall score because of the many false negatives."
   ]
  },
  {
   "cell_type": "markdown",
   "metadata": {},
   "source": [
    "# KNN"
   ]
  },
  {
   "cell_type": "code",
   "execution_count": 120,
   "metadata": {},
   "outputs": [],
   "source": [
    "# model tuned using grid search and the model with optimized hyperparameters is used for predictio and \n",
    "# evaluating the model performance.\n",
    "\n",
    "knn = KNeighborsClassifier(n_jobs=-1)\n",
    "param_grid = {'n_neighbors':[3,5,11,19],'weights':['uniform','distance'],\n",
    "             'metric':['euclidean','manhattan']}\n",
    "grid_knn = GridSearchCV(knn,param_grid,n_jobs=-1,cv=10,scoring='accuracy')\n",
    "grid_knn.fit(X_train_select,y_train)\n",
    "pred_grid_knn = grid_knn.predict(X_test_select)\n",
    "y_pred_grid_knn_prob_ = grid_knn.predict_proba(X_test_select)[:, 1]"
   ]
  },
  {
   "cell_type": "code",
   "execution_count": 121,
   "metadata": {},
   "outputs": [
    {
     "name": "stdout",
     "output_type": "stream",
     "text": [
      "The best estimator is KNeighborsClassifier(metric='manhattan', n_jobs=-1, n_neighbors=11,\n",
      "                     weights='distance')\n",
      "The best score is 0.7979588498080916\n",
      "The best parameters are {'metric': 'manhattan', 'n_neighbors': 11, 'weights': 'distance'}\n"
     ]
    }
   ],
   "source": [
    "print('The best estimator is {}'.format( grid_knn.best_estimator_))\n",
    "print('The best score is {}'.format(grid_knn.best_score_))\n",
    "print('The best parameters are {}'.format(grid_knn.best_params_))"
   ]
  },
  {
   "cell_type": "code",
   "execution_count": 122,
   "metadata": {},
   "outputs": [
    {
     "name": "stdout",
     "output_type": "stream",
     "text": [
      "the Cross validation accuracy score for knn model is 0.7681996448127867\n",
      "The confusion matrix for knn model is:\n",
      "580.25\n",
      "Here is the classification report for knn model\n",
      "\n",
      "              precision    recall  f1-score   support\n",
      "\n",
      "           0       0.86      0.73      0.79      1711\n",
      "           1       0.47      0.66      0.54       610\n",
      "\n",
      "    accuracy                           0.71      2321\n",
      "   macro avg       0.66      0.69      0.67      2321\n",
      "weighted avg       0.75      0.71      0.72      2321\n",
      "\n",
      "The  Area Under the Precision-Recall Curve (AUPRC) score is:0.5226828186159206\n"
     ]
    }
   ],
   "source": [
    "print('the Cross validation accuracy score for knn model is {}'\n",
    "      .format(np.mean(cross_val_score(grid_knn,X_test_select,y_test,\n",
    "                                      cv=10,n_jobs=-1))))\n",
    "print('The confusion matrix for knn model is:')\n",
    "print(confusion_matrix(y_test,pred_grid_knn))\n",
    "print('Here is the classification report for knn model')\n",
    "print()\n",
    "print(classification_report(y_test,pred_grid_knn))\n",
    "\n",
    "# calculate AUC\n",
    "print('The  Area Under the Precision-Recall Curve (AUPRC) score is:{}'.format(\n",
    "    average_precision_score(y_test, y_pred_grid_knn_prob_)))\n",
    "\n",
    "#While knn model has the advantage of fast training, but the precision and recall is not as good as random forest \n",
    "#and logistic regression"
   ]
  },
  {
   "cell_type": "markdown",
   "metadata": {},
   "source": [
    "# Gradient Boosting Classifier"
   ]
  },
  {
   "cell_type": "code",
   "execution_count": 123,
   "metadata": {},
   "outputs": [],
   "source": [
    "# model tuned using grid search and the model with optimized hyperparameters is used for predictio and \n",
    "# evaluating the model performance.\n",
    "\n",
    "gb = GradientBoostingClassifier()\n",
    "param_distributions = {\n",
    "    \"loss\":[\"deviance\"],\n",
    "    \"learning_rate\": [0.01, 0.025, 0.05, 0.075, 0.1, 0.15, 0.2],\n",
    "    \"max_depth\":[3,5,8],\n",
    "    \"subsample\":[0.5, 0.618, 0.8, 0.85, 0.9, 0.95, 1.0],\n",
    "    \"n_estimators\":np.arange(10,1000,50)\n",
    "    }\n",
    "\n",
    "rand_gb = RandomizedSearchCV(gb, param_distributions, cv=10, n_jobs=-1)\n",
    "rand_gb.fit(X_train_select,y_train)\n",
    "pred_rand_gb = rand_gb.predict(X_test_select)\n",
    "y_pred_rand_gb_prob_ = rand_gb.predict_proba(X_test_select)[:, 1]"
   ]
  },
  {
   "cell_type": "code",
   "execution_count": 124,
   "metadata": {},
   "outputs": [
    {
     "name": "stdout",
     "output_type": "stream",
     "text": [
      "The best estimator is GradientBoostingClassifier(learning_rate=0.075, max_depth=5, n_estimators=710)\n",
      "The best score is 0.8183951005683845\n",
      "The best parameters are {'subsample': 1.0, 'n_estimators': 710, 'max_depth': 5, 'loss': 'deviance', 'learning_rate': 0.075}\n"
     ]
    }
   ],
   "source": [
    "print('The best estimator is {}'.format( rand_gb.best_estimator_))\n",
    "print('The best score is {}'.format(rand_gb.best_score_))\n",
    "print('The best parameters are {}'.format(rand_gb.best_params_))"
   ]
  },
  {
   "cell_type": "code",
   "execution_count": 125,
   "metadata": {},
   "outputs": [
    {
     "name": "stdout",
     "output_type": "stream",
     "text": [
      "the Cross validation accuracy score for gradient boostig model is 0.7802704602634305\n",
      "The confusion matrix for gradient boosting model is:\n",
      "[[1299  412]\n",
      " [ 200  410]]\n",
      "Here is the classification report for gradient boosting model\n",
      "\n",
      "              precision    recall  f1-score   support\n",
      "\n",
      "           0       0.86      0.78      0.82      1711\n",
      "           1       0.52      0.65      0.57       610\n",
      "\n",
      "    accuracy                           0.75      2321\n",
      "   macro avg       0.69      0.72      0.70      2321\n",
      "weighted avg       0.77      0.75      0.76      2321\n",
      "\n",
      "The  Area Under the Precision-Recall Curve (AUPRC) score is:0.5814813331041567\n"
     ]
    }
   ],
   "source": [
    "print('the Cross validation accuracy score for gradient boostig model is {}'\n",
    "      .format(np.mean(cross_val_score(rand_gb,X_test_select,y_test,\n",
    "                                      cv=10,n_jobs=-1))))\n",
    "print('The confusion matrix for gradient boosting model is:')\n",
    "print(confusion_matrix(y_test,pred_grid_rfc))\n",
    "print('Here is the classification report for gradient boosting model')\n",
    "print()\n",
    "print(classification_report(y_test,pred_rand_gb))\n",
    "\n",
    "# calculate AUC\n",
    "print('The  Area Under the Precision-Recall Curve (AUPRC) score is:{}'.format(\n",
    "    average_precision_score(y_test, y_pred_rand_gb_prob_)))\n",
    "\n",
    "# the precision and recall scores are similar to logistic regression, but average precision score is lower (0.58)."
   ]
  },
  {
   "cell_type": "markdown",
   "metadata": {},
   "source": [
    "# Feature Reduction Using PCA"
   ]
  },
  {
   "cell_type": "code",
   "execution_count": 374,
   "metadata": {},
   "outputs": [],
   "source": [
    "#PCA was used to reduce the number of features through projecting the data into a lower dimentional space.\n",
    "scaler = StandardScaler()\n",
    "X_train = scaler.fit_transform(X_train)\n",
    "pca = PCA(n_components = 10)\n",
    "X_train = pca.fit_transform(X_train)\n",
    "X_test = scaler.transform(X_test)\n",
    "X_test = pca.transform(X_test)"
   ]
  },
  {
   "cell_type": "markdown",
   "metadata": {},
   "source": [
    "# Decision Tree Classifier"
   ]
  },
  {
   "cell_type": "code",
   "execution_count": 375,
   "metadata": {},
   "outputs": [],
   "source": [
    "# model tuned using grid search and the model with optimized hyperparameters is used for predictio and \n",
    "# evaluating the model performance.\n",
    "\n",
    "tree = DecisionTreeClassifier()\n",
    "param_grid = {'criterion':['entropy','gini'],'max_features':range(1,11),\n",
    "              'max_depth':range(1,11)}\n",
    "grid_tree = GridSearchCV(tree,param_grid,cv=10,scoring='accuracy',\n",
    "                         n_jobs=-1)\n",
    "grid_tree.fit(X_train,y_train)\n",
    "pred_grid_tree = grid_tree.predict(X_test)\n",
    "y_pred_grid_tree_prob_ = grid_tree.predict_proba(X_test)[:, 1]"
   ]
  },
  {
   "cell_type": "code",
   "execution_count": 376,
   "metadata": {},
   "outputs": [
    {
     "name": "stdout",
     "output_type": "stream",
     "text": [
      "The best estimator is DecisionTreeClassifier(criterion='entropy', max_depth=7, max_features=5)\n",
      "The best score is 0.8042054153820339\n",
      "The best parameters are {'criterion': 'entropy', 'max_depth': 7, 'max_features': 5}\n"
     ]
    }
   ],
   "source": [
    "print('The best estimator is {}'.format(grid_tree.best_estimator_))\n",
    "print('The best score is {}'.format(grid_tree.best_score_))\n",
    "print('The best parameters are {}'.format(grid_tree.best_params_))"
   ]
  },
  {
   "cell_type": "code",
   "execution_count": 377,
   "metadata": {},
   "outputs": [
    {
     "name": "stdout",
     "output_type": "stream",
     "text": [
      "the Cross validation accuracy score for Decision tree model is 0.7725081397069705\n",
      "The confusion matrix for Decision tree model is:\n",
      "[[1366  345]\n",
      " [ 238  372]]\n",
      "Here is the classification report for decidion tree model:\n",
      "\n",
      "              precision    recall  f1-score   support\n",
      "\n",
      "           0       0.85      0.80      0.82      1711\n",
      "           1       0.52      0.61      0.56       610\n",
      "\n",
      "    accuracy                           0.75      2321\n",
      "   macro avg       0.69      0.70      0.69      2321\n",
      "weighted avg       0.76      0.75      0.75      2321\n",
      "\n",
      "The  Area Under the Precision-Recall Curve (AUPRC) score is:0.49779918316996885\n"
     ]
    }
   ],
   "source": [
    "print('the Cross validation accuracy score for Decision tree model is {}'\n",
    "      .format(np.mean(cross_val_score(grid_tree,X_test,y_test,\n",
    "                                      cv=10,n_jobs=-1))))\n",
    "print('The confusion matrix for Decision tree model is:')\n",
    "print(confusion_matrix(y_test,pred_grid_tree))\n",
    "print('Here is the classification report for decidion tree model:')\n",
    "print()\n",
    "print(classification_report(y_test,pred_grid_tree))\n",
    "\n",
    "# calculate AUC\n",
    "print('The  Area Under the Precision-Recall Curve (AUPRC) score is:{}'.format(\n",
    "    average_precision_score(y_test, y_pred_grid_tree_prob_)))"
   ]
  },
  {
   "cell_type": "markdown",
   "metadata": {},
   "source": [
    "# Random Forest Classifier"
   ]
  },
  {
   "cell_type": "code",
   "execution_count": 379,
   "metadata": {},
   "outputs": [],
   "source": [
    "# model tuned using grid search and the model with optimized hyperparameters is used for predictio and \n",
    "# evaluating the model performance.\n",
    "\n",
    "rfc = RandomForestClassifier(n_jobs=-1)\n",
    "param_grid={'n_estimators':range(1,201,10), 'max_depth':range(1,11),\n",
    "           'criterion':['gini','entropy']}\n",
    "grid_rfc = GridSearchCV(rfc,param_grid,scoring = 'accuracy',cv=10, n_jobs=-1)\n",
    "grid_rfc.fit(X_train,y_train)\n",
    "pred_grid_rfc = grid_rfc.predict(X_test)\n",
    "y_pred_grid_rfc_prob_ = grid_rfc.predict_proba(X_test)[:, 1]"
   ]
  },
  {
   "cell_type": "code",
   "execution_count": 380,
   "metadata": {},
   "outputs": [
    {
     "name": "stdout",
     "output_type": "stream",
     "text": [
      "The best estimator is RandomForestClassifier(max_depth=10, n_estimators=151, n_jobs=-1)\n",
      "The best score is 0.8295610226724554\n",
      "The best parameters are {'criterion': 'gini', 'max_depth': 10, 'n_estimators': 151}\n"
     ]
    }
   ],
   "source": [
    "print('The best estimator is {}'.format(grid_rfc.best_estimator_))\n",
    "print('The best score is {}'.format(grid_rfc.best_score_))\n",
    "print('The best parameters are {}'.format(grid_rfc.best_params_))"
   ]
  },
  {
   "cell_type": "code",
   "execution_count": 381,
   "metadata": {},
   "outputs": [
    {
     "name": "stdout",
     "output_type": "stream",
     "text": [
      "the cv accuracy score is 0.7837150362586948\n",
      "here is the confusion matrix:\n",
      "[[1366  345]\n",
      " [ 220  390]]\n",
      "Here is the classification report:\n",
      "\n",
      "              precision    recall  f1-score   support\n",
      "\n",
      "           0       0.86      0.80      0.83      1711\n",
      "           1       0.53      0.64      0.58       610\n",
      "\n",
      "    accuracy                           0.76      2321\n",
      "   macro avg       0.70      0.72      0.70      2321\n",
      "weighted avg       0.77      0.76      0.76      2321\n",
      "\n",
      "The  Area Under the Precision-Recall Curve (AUPRC) score is:0.5552183840521199\n"
     ]
    }
   ],
   "source": [
    "print('the cv accuracy score is {}'.format(np.mean(cross_val_score(grid_rfc,X_test,y_test,cv=10))))\n",
    "print('here is the confusion matrix:')\n",
    "print(confusion_matrix(y_test,pred_grid_rfc))\n",
    "print('Here is the classification report:')\n",
    "print()\n",
    "print(classification_report(y_test,pred_grid_rfc))\n",
    "# calculate AUC\n",
    "print('The  Area Under the Precision-Recall Curve (AUPRC) score is:{}'.format(\n",
    "    average_precision_score(y_test, y_pred_grid_rfc_prob_)))"
   ]
  },
  {
   "cell_type": "markdown",
   "metadata": {},
   "source": [
    "# Logistic Regression Classifier"
   ]
  },
  {
   "cell_type": "code",
   "execution_count": 382,
   "metadata": {},
   "outputs": [],
   "source": [
    "# model tuned using grid search and the model with optimized hyperparameters is used for predictio and \n",
    "# evaluating the model performance.\n",
    "\n",
    "lr = LogisticRegression(n_jobs=-1, solver='lbfgs')\n",
    "param_grid = {'penalty':['none','l2'], 'C' : np.arange(0.1,3,0.1),'class_weight':['balanced',None]}\n",
    "grid_lr = GridSearchCV(lr,param_grid,scoring = 'accuracy',cv=10, n_jobs=-1)\n",
    "grid_lr.fit(X_train,y_train)\n",
    "pred_grid_lr = grid_lr.predict(X_test)\n",
    "y_pred_grid_lr_prob_ = grid_lr.predict_proba(X_test)[:, 1]"
   ]
  },
  {
   "cell_type": "code",
   "execution_count": 383,
   "metadata": {},
   "outputs": [
    {
     "name": "stdout",
     "output_type": "stream",
     "text": [
      "The best estimator is LogisticRegression(C=0.2, class_weight='balanced', n_jobs=-1)\n",
      "The best score is 0.8014513727217434\n",
      "The best parameters are {'C': 0.2, 'class_weight': 'balanced', 'penalty': 'l2'}\n"
     ]
    }
   ],
   "source": [
    "print('The best estimator is {}'.format( grid_lr.best_estimator_))\n",
    "print('The best score is {}'.format(grid_lr.best_score_))\n",
    "print('The best parameters are {}'.format(grid_lr.best_params_))"
   ]
  },
  {
   "cell_type": "code",
   "execution_count": 393,
   "metadata": {},
   "outputs": [
    {
     "name": "stdout",
     "output_type": "stream",
     "text": [
      "the Cross validation accuracy score for Logistic Regression model is 0.7910315228651769\n",
      "The confusion matrix for SVC model is:\n",
      "[[1329  382]\n",
      " [ 190  420]]\n",
      "Here is the classification report for logistic regression model:\n",
      "\n",
      "              precision    recall  f1-score   support\n",
      "\n",
      "           0       0.87      0.78      0.82      1711\n",
      "           1       0.52      0.69      0.59       610\n",
      "\n",
      "    accuracy                           0.75      2321\n",
      "   macro avg       0.70      0.73      0.71      2321\n",
      "weighted avg       0.78      0.75      0.76      2321\n",
      "\n",
      "The  Area Under the Precision-Recall Curve (AUPRC) score is: 0.6024086246109441\n"
     ]
    }
   ],
   "source": [
    "print('the Cross validation accuracy score for Logistic Regression model is {}'\n",
    "      .format(np.mean(cross_val_score(grid_lr,X_test,y_test,\n",
    "                                      cv=10,n_jobs=-1))))\n",
    "print('The confusion matrix for SVC model is:')\n",
    "print(confusion_matrix(y_test,pred_grid_lr))\n",
    "print('Here is the classification report for logistic regression model:')\n",
    "print()      \n",
    "print(classification_report(y_test,pred_grid_lr))\n",
    "# calculate AUC\n",
    "print('The  Area Under the Precision-Recall Curve (AUPRC) score is: {}'.format(average_precision_score(y_test, y_pred_grid_lr_prob_)))\n"
   ]
  },
  {
   "cell_type": "markdown",
   "metadata": {},
   "source": [
    "# Support Vector Machine (SVM) Classifier"
   ]
  },
  {
   "cell_type": "code",
   "execution_count": 396,
   "metadata": {},
   "outputs": [],
   "source": [
    "# model tuned using grid search and the model with optimized hyperparameters is used for predictio and \n",
    "# evaluating the model performance.\n",
    "\n",
    "svc = SVC()\n",
    "param_dist = {'kernel': ['rbf'], 'gamma': [1, 1e-1,1e-2,1e-3, 1e-4], 'C': [1, 10, 100, 1000], 'probability' : [True]}\n",
    "#param_dist = [{'kernel': ['rbf'], 'gamma': [1, 1e-1,1e-2,1e-3, 1e-4], 'C': [1, 10, 100, 1000]}, \n",
    "#              {'kernel': ['linear'], 'C': [1, 10, 100, 1000]}]\n",
    "rand_svc = RandomizedSearchCV(svc,param_dist,cv=10,scoring='accuracy',n_iter=20,n_jobs=-1)\n",
    "rand_svc.fit(X_train,y_train)\n",
    "pred_rand_svc = rand_svc.predict(X_test)\n",
    "y_pred_rand_svc_prob_ = rand_svc.predict_proba(X_test)[:, 1]"
   ]
  },
  {
   "cell_type": "code",
   "execution_count": 397,
   "metadata": {},
   "outputs": [
    {
     "name": "stdout",
     "output_type": "stream",
     "text": [
      "The best estimator is SVC(C=1000, gamma=0.01, probability=True)\n",
      "The best score is 0.8139155603095704\n",
      "The best parameters are {'probability': True, 'kernel': 'rbf', 'gamma': 0.01, 'C': 1000}\n"
     ]
    }
   ],
   "source": [
    "print('The best estimator is {}'.format( rand_svc.best_estimator_))\n",
    "print('The best score is {}'.format(rand_svc.best_score_))\n",
    "print('The best parameters are {}'.format(rand_svc.best_params_))"
   ]
  },
  {
   "cell_type": "code",
   "execution_count": 398,
   "metadata": {},
   "outputs": [
    {
     "name": "stdout",
     "output_type": "stream",
     "text": [
      "the Cross validation accuracy score for SVC model is 0.7936177297617286\n",
      "The confusion matrix for SVC model is:\n",
      "[[1296  415]\n",
      " [ 189  421]]\n",
      "Here is the classification report for knn model:\n",
      "\n",
      "              precision    recall  f1-score   support\n",
      "\n",
      "           0       0.87      0.76      0.81      1711\n",
      "           1       0.50      0.69      0.58       610\n",
      "\n",
      "    accuracy                           0.74      2321\n",
      "   macro avg       0.69      0.72      0.70      2321\n",
      "weighted avg       0.78      0.74      0.75      2321\n",
      "\n",
      "The  Area Under the Precision-Recall Curve (AUPRC) score is:0.5327604161538978\n"
     ]
    }
   ],
   "source": [
    "print('the Cross validation accuracy score for SVC model is {}'\n",
    "      .format(np.mean(cross_val_score(rand_svc,X_test,y_test,\n",
    "                                      cv=10,n_jobs=-1))))\n",
    "print('The confusion matrix for SVC model is:')\n",
    "print(confusion_matrix(y_test,pred_rand_svc))\n",
    "print('Here is the classification report for knn model:')\n",
    "print()\n",
    "print(classification_report(y_test,pred_rand_svc))\n",
    "\n",
    "# calculate AUC\n",
    "print('The  Area Under the Precision-Recall Curve (AUPRC) score is:{}'.format(\n",
    "    average_precision_score(y_test, y_pred_rand_svc_prob_)))"
   ]
  },
  {
   "cell_type": "markdown",
   "metadata": {},
   "source": [
    "# K Nearest Neighbors (knn)"
   ]
  },
  {
   "cell_type": "code",
   "execution_count": 399,
   "metadata": {},
   "outputs": [],
   "source": [
    "# model tuned using grid search and the model with optimized hyperparameters is used for predictio and \n",
    "# evaluating the model performance.\n",
    "\n",
    "knn = KNeighborsClassifier(n_jobs=-1)\n",
    "param_grid = {'n_neighbors':[3,5,11,19],'weights':['uniform','distance'],\n",
    "             'metric':['euclidean','manhattan']}\n",
    "grid_knn = GridSearchCV(knn,param_grid,n_jobs=-1,cv=10,scoring='accuracy')\n",
    "grid_knn.fit(X_train,y_train)\n",
    "pred_grid_knn = grid_knn.predict(X_test)\n",
    "y_pred_grid_knn_prob_ = grid_knn.predict_proba(X_test)[:, 1]"
   ]
  },
  {
   "cell_type": "code",
   "execution_count": 400,
   "metadata": {},
   "outputs": [
    {
     "name": "stdout",
     "output_type": "stream",
     "text": [
      "The best estimator is KNeighborsClassifier(metric='manhattan', n_jobs=-1, n_neighbors=19,\n",
      "                     weights='distance')\n",
      "The best score is 0.8149313114788482\n",
      "The best parameters are {'metric': 'manhattan', 'n_neighbors': 19, 'weights': 'distance'}\n"
     ]
    }
   ],
   "source": [
    "print('The best estimator is {}'.format( grid_knn.best_estimator_))\n",
    "print('The best score is {}'.format(grid_knn.best_score_))\n",
    "print('The best parameters are {}'.format(grid_knn.best_params_))"
   ]
  },
  {
   "cell_type": "code",
   "execution_count": 401,
   "metadata": {},
   "outputs": [
    {
     "name": "stdout",
     "output_type": "stream",
     "text": [
      "the Cross validation accuracy score for knn model is 0.7664810566819595\n",
      "The confusion matrix for knn model is:\n",
      "[[1294  417]\n",
      " [ 208  402]]\n",
      "Here is the classification report for knn model:\n",
      "              precision    recall  f1-score   support\n",
      "\n",
      "           0       0.86      0.76      0.81      1711\n",
      "           1       0.49      0.66      0.56       610\n",
      "\n",
      "    accuracy                           0.73      2321\n",
      "   macro avg       0.68      0.71      0.68      2321\n",
      "weighted avg       0.76      0.73      0.74      2321\n",
      "\n",
      "The  Area Under the Precision-Recall Curve (AUPRC) score is:0.5814813331041567\n"
     ]
    }
   ],
   "source": [
    "print('the Cross validation accuracy score for knn model is {}'\n",
    "      .format(np.mean(cross_val_score(grid_knn,X_test,y_test,\n",
    "                                      cv=10,n_jobs=-1))))\n",
    "print('The confusion matrix for knn model is:')\n",
    "print(confusion_matrix(y_test,pred_grid_knn))\n",
    "print('Here is the classification report for knn model:')\n",
    "print(classification_report(y_test,pred_grid_knn))\n",
    "\n",
    "# calculate AUC\n",
    "print('The  Area Under the Precision-Recall Curve (AUPRC) score is:{}'.format(\n",
    "    average_precision_score(y_test, y_pred_rand_gb_prob_)))\n"
   ]
  },
  {
   "cell_type": "markdown",
   "metadata": {},
   "source": [
    "# Gradient Boosting Classifier"
   ]
  },
  {
   "cell_type": "code",
   "execution_count": 402,
   "metadata": {},
   "outputs": [],
   "source": [
    "# model tuned using grid search and the model with optimized hyperparameters is used for predictio and \n",
    "# evaluating the model performance.\n",
    "\n",
    "gb = GradientBoostingClassifier()\n",
    "param_distributions = {\n",
    "    \"loss\":[\"deviance\"],\n",
    "    \"learning_rate\": [0.01, 0.025, 0.05, 0.075, 0.1, 0.15, 0.2],\n",
    "    \"max_depth\":[3,5,8],\n",
    "    \"subsample\":[0.5, 0.618, 0.8, 0.85, 0.9, 0.95, 1.0],\n",
    "    \"n_estimators\":np.arange(10,1000,50)\n",
    "    }\n",
    "\n",
    "rand_gb = RandomizedSearchCV(gb, param_distributions, cv=10, n_jobs=-1)\n",
    "rand_gb.fit(X_train,y_train)\n",
    "pred_rand_gb = rand_gb.predict(X_test)\n",
    "y_pred_rand_gb_prob_ = rand_gb.predict_proba(X_test)[:, 1]"
   ]
  },
  {
   "cell_type": "code",
   "execution_count": 403,
   "metadata": {},
   "outputs": [
    {
     "name": "stdout",
     "output_type": "stream",
     "text": [
      "The best estimator is GradientBoostingClassifier(learning_rate=0.025, max_depth=8, n_estimators=460,\n",
      "                           subsample=0.8)\n",
      "The best score is 0.8230491411313157\n",
      "The best parameters are {'subsample': 0.8, 'n_estimators': 460, 'max_depth': 8, 'loss': 'deviance', 'learning_rate': 0.025}\n"
     ]
    }
   ],
   "source": [
    "print('The best estimator is {}'.format( rand_gb.best_estimator_))\n",
    "print('The best score is {}'.format(rand_gb.best_score_))\n",
    "print('The best parameters are {}'.format(rand_gb.best_params_))"
   ]
  },
  {
   "cell_type": "code",
   "execution_count": 410,
   "metadata": {},
   "outputs": [
    {
     "name": "stdout",
     "output_type": "stream",
     "text": [
      "the Cross validation accuracy score for gradient boostig model is 0.7910370726653839\n",
      "The confusion matrix for gradient boosting model is:\n",
      "[[1366  345]\n",
      " [ 220  390]]\n",
      "Here is the classification report for gradient boosting model:\n",
      "              precision    recall  f1-score   support\n",
      "\n",
      "           0       0.85      0.80      0.83      1711\n",
      "           1       0.52      0.60      0.56       610\n",
      "\n",
      "    accuracy                           0.75      2321\n",
      "   macro avg       0.69      0.70      0.69      2321\n",
      "weighted avg       0.76      0.75      0.76      2321\n",
      "\n",
      "The  Area Under the Precision-Recall Curve (AUPRC) score is:0.5510275329447458\n"
     ]
    }
   ],
   "source": [
    "print('the Cross validation accuracy score for gradient boostig model is {}'\n",
    "      .format(np.mean(cross_val_score(rand_gb,X_test,y_test,\n",
    "                                      cv=10,n_jobs=-1))))\n",
    "print('The confusion matrix for gradient boosting model is:')\n",
    "print(confusion_matrix(y_test,pred_grid_rfc))\n",
    "print('Here is the classification report for gradient boosting model:')\n",
    "print(classification_report(y_test,pred_rand_gb))\n",
    "\n",
    "# calculate AUC\n",
    "print('The  Area Under the Precision-Recall Curve (AUPRC) score is:{}'.format(\n",
    "    average_precision_score(y_test, y_pred_rand_gb_prob_)))\n"
   ]
  },
  {
   "cell_type": "markdown",
   "metadata": {},
   "source": [
    "## Conclusion\n",
    "\n",
    "Because the classes are unbalanced, an appropriate measure was considered for the data preparation. The oversampling method is used to handle the unbalanced dataset. For reducing the number of features, PCA and SelectKBest methods are used and results are compared. Choosing the best predictors for target variable using SelectKBest, reduce the overfitting and training time while improves the accuracy by removing irrelevant/noise data. The different models including logistic regression, k nearest neghibor, support vector machine, gradient boosting, decision tree, and random forest are used. \n",
    "\n",
    "Because the dataset is imbalanced, the accuracy is not a good indicator for finding best model. Here, we also looked at precision, recall scores, and average precision score. The results showed that SelectKBest and PCA performance is very close to each other. However, the best score (accuracy = 0.79, precision = 0.52, recall = 0.69, and F1 score = 0.59, average precision score = 0.60) obtained where PCA method is used for selecting best features and logistic regression model was used for classification. \n",
    "\n",
    " \n"
   ]
  },
  {
   "cell_type": "code",
   "execution_count": null,
   "metadata": {},
   "outputs": [],
   "source": []
  }
 ],
 "metadata": {
  "kernelspec": {
   "display_name": "Python 3",
   "language": "python",
   "name": "python3"
  },
  "language_info": {
   "codemirror_mode": {
    "name": "ipython",
    "version": 3
   },
   "file_extension": ".py",
   "mimetype": "text/x-python",
   "name": "python",
   "nbconvert_exporter": "python",
   "pygments_lexer": "ipython3",
   "version": "3.7.4"
  }
 },
 "nbformat": 4,
 "nbformat_minor": 2
}
